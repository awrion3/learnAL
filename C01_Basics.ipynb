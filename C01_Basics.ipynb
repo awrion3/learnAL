{
 "cells": [
  {
   "cell_type": "markdown",
   "id": "a97ebed2-b0db-4ec5-b250-bcacb6be6cac",
   "metadata": {},
   "source": [
    "#Python Basics"
   ]
  },
  {
   "cell_type": "markdown",
   "id": "407966fc-a24a-4cd0-bf83-dc9bc12b6d00",
   "metadata": {},
   "source": [
    "01. List"
   ]
  },
  {
   "cell_type": "code",
   "execution_count": 16,
   "id": "d7552ef5-7e9b-434a-843e-caf347777c27",
   "metadata": {},
   "outputs": [
    {
     "name": "stdin",
     "output_type": "stream",
     "text": [
      " 11\n"
     ]
    },
    {
     "name": "stdout",
     "output_type": "stream",
     "text": [
      "[1, 2, 3, 4, 5, 6, 7, 8, 9, 10, 11]\n"
     ]
    }
   ],
   "source": [
    "list = [1, 2, 3, 4, 5, 6, 7, 8, 9, 10]\n",
    "x = input()\n",
    "list.append(int(x))\n",
    "print(list)"
   ]
  },
  {
   "cell_type": "code",
   "execution_count": 18,
   "id": "9420969c-fd6c-42e6-90f4-d20611263e77",
   "metadata": {},
   "outputs": [
    {
     "data": {
      "text/plain": [
       "[1, 12, 2, 3, 4, 5, 6, 7, 8, 9, 10, 11]"
      ]
     },
     "execution_count": 18,
     "metadata": {},
     "output_type": "execute_result"
    }
   ],
   "source": [
    "list.insert(1, 12)\n",
    "list"
   ]
  },
  {
   "cell_type": "code",
   "execution_count": 20,
   "id": "764d5aba-fc18-4188-bf1b-47a3fb601afb",
   "metadata": {},
   "outputs": [
    {
     "data": {
      "text/plain": [
       "[1, 2, 3, 4, 5, 6, 7, 8, 9, 10, 11]"
      ]
     },
     "execution_count": 20,
     "metadata": {},
     "output_type": "execute_result"
    }
   ],
   "source": [
    "list.remove(12)\n",
    "list"
   ]
  },
  {
   "cell_type": "code",
   "execution_count": 26,
   "id": "336683d0-143f-4270-999a-8914a09f8646",
   "metadata": {},
   "outputs": [
    {
     "data": {
      "text/plain": [
       "[1, 2, 3, 4, 5, 6, 7, 8, 9, 10]"
      ]
     },
     "execution_count": 26,
     "metadata": {},
     "output_type": "execute_result"
    }
   ],
   "source": [
    "list.pop()\n",
    "list"
   ]
  },
  {
   "cell_type": "code",
   "execution_count": 28,
   "id": "c6306ace-9600-4906-b05e-359c6283cad7",
   "metadata": {},
   "outputs": [
    {
     "data": {
      "text/plain": [
       "9"
      ]
     },
     "execution_count": 28,
     "metadata": {},
     "output_type": "execute_result"
    }
   ],
   "source": [
    "list.index(10)"
   ]
  },
  {
   "cell_type": "code",
   "execution_count": 30,
   "id": "ee914077-4b49-4f69-adc8-3e1f2f40aa98",
   "metadata": {},
   "outputs": [
    {
     "data": {
      "text/plain": [
       "[10, 9, 8, 7, 6, 5, 4, 3, 2, 1]"
      ]
     },
     "execution_count": 30,
     "metadata": {},
     "output_type": "execute_result"
    }
   ],
   "source": [
    "list.reverse()\n",
    "list"
   ]
  },
  {
   "cell_type": "markdown",
   "id": "ff0f780a-95d4-4ff2-89d8-346c25768a84",
   "metadata": {},
   "source": [
    "02. Pandas"
   ]
  },
  {
   "cell_type": "code",
   "execution_count": 38,
   "id": "ff94bc0a-ab03-47f5-9f11-d36bb5191b33",
   "metadata": {},
   "outputs": [
    {
     "data": {
      "text/plain": [
       "0    1\n",
       "1    3\n",
       "2    5\n",
       "3    7\n",
       "4    9\n",
       "dtype: int64"
      ]
     },
     "execution_count": 38,
     "metadata": {},
     "output_type": "execute_result"
    }
   ],
   "source": [
    "import pandas as pd\n",
    "#automatically prints indices too\n",
    "x = pd.Series(index = range(5), data = [1, 3, 5, 7, 9])\n",
    "x"
   ]
  },
  {
   "cell_type": "code",
   "execution_count": 40,
   "id": "1872a1d4-65e3-4539-90a3-00b19cd870a1",
   "metadata": {},
   "outputs": [
    {
     "data": {
      "text/plain": [
       "a     1\n",
       "b     3\n",
       "c     9\n",
       "d    11\n",
       "d    12\n",
       "dtype: int64"
      ]
     },
     "execution_count": 40,
     "metadata": {},
     "output_type": "execute_result"
    }
   ],
   "source": [
    "y = pd.Series(index =['a','b','c','d','d'], data=[1,3,9,11,12])\n",
    "y"
   ]
  },
  {
   "cell_type": "code",
   "execution_count": 42,
   "id": "95c803c9-63b2-4453-9a16-5567f9c70681",
   "metadata": {},
   "outputs": [
    {
     "data": {
      "text/plain": [
       "d    11\n",
       "d    12\n",
       "dtype: int64"
      ]
     },
     "execution_count": 42,
     "metadata": {},
     "output_type": "execute_result"
    }
   ],
   "source": [
    "y.d"
   ]
  },
  {
   "cell_type": "code",
   "execution_count": 44,
   "id": "26b1fa59-3a8e-45ac-bac7-06814f6ad693",
   "metadata": {},
   "outputs": [
    {
     "data": {
      "text/html": [
       "<div>\n",
       "<style scoped>\n",
       "    .dataframe tbody tr th:only-of-type {\n",
       "        vertical-align: middle;\n",
       "    }\n",
       "\n",
       "    .dataframe tbody tr th {\n",
       "        vertical-align: top;\n",
       "    }\n",
       "\n",
       "    .dataframe thead th {\n",
       "        text-align: right;\n",
       "    }\n",
       "</style>\n",
       "<table border=\"1\" class=\"dataframe\">\n",
       "  <thead>\n",
       "    <tr style=\"text-align: right;\">\n",
       "      <th></th>\n",
       "      <th>col1</th>\n",
       "      <th>col2</th>\n",
       "    </tr>\n",
       "  </thead>\n",
       "  <tbody>\n",
       "    <tr>\n",
       "      <th>0</th>\n",
       "      <td>1</td>\n",
       "      <td>9</td>\n",
       "    </tr>\n",
       "    <tr>\n",
       "      <th>1</th>\n",
       "      <td>3</td>\n",
       "      <td>23</td>\n",
       "    </tr>\n",
       "  </tbody>\n",
       "</table>\n",
       "</div>"
      ],
      "text/plain": [
       "   col1  col2\n",
       "0     1     9\n",
       "1     3    23"
      ]
     },
     "execution_count": 44,
     "metadata": {},
     "output_type": "execute_result"
    }
   ],
   "source": [
    "#Nd array\n",
    "df = pd.DataFrame({'col1': [1,3,11,2], 'col2': [9,23,0,2]})\n",
    "df.iloc[:2, :2]"
   ]
  },
  {
   "cell_type": "code",
   "execution_count": 46,
   "id": "37a86a97-549f-4fc8-9e90-11e89bebe9be",
   "metadata": {},
   "outputs": [
    {
     "data": {
      "text/plain": [
       "0     1\n",
       "1     3\n",
       "2    11\n",
       "3     2\n",
       "Name: col1, dtype: int64"
      ]
     },
     "execution_count": 46,
     "metadata": {},
     "output_type": "execute_result"
    }
   ],
   "source": [
    "df['col1']"
   ]
  },
  {
   "cell_type": "markdown",
   "id": "c42efb71-54d6-43f7-be99-427c3bc89180",
   "metadata": {},
   "source": [
    "#Practice"
   ]
  },
  {
   "cell_type": "markdown",
   "id": "ba215f7c-767f-4b4d-af27-5c3a182e0f71",
   "metadata": {},
   "source": [
    "Ex 01."
   ]
  },
  {
   "cell_type": "code",
   "execution_count": 58,
   "id": "5410d41b-9a27-49cd-83a2-5a59acc22e33",
   "metadata": {},
   "outputs": [
    {
     "name": "stdin",
     "output_type": "stream",
     "text": [
      " 10\n"
     ]
    },
    {
     "name": "stdout",
     "output_type": "stream",
     "text": [
      "0\n",
      "2\n",
      "4\n",
      "6\n",
      "8\n"
     ]
    }
   ],
   "source": [
    "given_range = int(input())\n",
    "for i in range(given_range):\n",
    "    if i % 2 == 0:\n",
    "        print(i)"
   ]
  },
  {
   "cell_type": "markdown",
   "id": "a367ad4f-de9a-435f-9182-24761023301a",
   "metadata": {},
   "source": [
    "Ex 02."
   ]
  },
  {
   "cell_type": "code",
   "execution_count": 68,
   "id": "732b5cb0-e6dc-407e-b5f9-16fe503bef33",
   "metadata": {},
   "outputs": [
    {
     "name": "stdin",
     "output_type": "stream",
     "text": [
      " 10000\n"
     ]
    },
    {
     "name": "stdout",
     "output_type": "stream",
     "text": [
      "5\n"
     ]
    }
   ],
   "source": [
    "given_number = int(input())\n",
    "count = len(str(given_number))\n",
    "print(count)\n",
    "#for i in str(given_number):\n",
    "# count + =1"
   ]
  },
  {
   "cell_type": "markdown",
   "id": "c99c98ac-1149-4b0e-b4c1-9771c62c15ff",
   "metadata": {},
   "source": [
    "Ex 03."
   ]
  },
  {
   "cell_type": "code",
   "execution_count": 124,
   "id": "8302f5c3-5a4f-475c-927a-414348652c56",
   "metadata": {},
   "outputs": [
    {
     "name": "stdin",
     "output_type": "stream",
     "text": [
      " hello\n"
     ]
    },
    {
     "data": {
      "text/plain": [
       "'olleh'"
      ]
     },
     "execution_count": 124,
     "metadata": {},
     "output_type": "execute_result"
    }
   ],
   "source": [
    "given_string = input()\n",
    "given_string[::-1]\n",
    "#reverse_string = \"\"\n",
    "#for i in given_string:\n",
    "#reverse_string = i + reverse_string\n",
    "#reversed"
   ]
  },
  {
   "cell_type": "markdown",
   "id": "497fbd95-fe8f-48f9-a07d-b1902d5b44c3",
   "metadata": {},
   "source": [
    "Ex 04."
   ]
  },
  {
   "cell_type": "code",
   "execution_count": 116,
   "id": "bee80e96-80f2-417e-bac6-9c312830e99d",
   "metadata": {},
   "outputs": [
    {
     "name": "stdout",
     "output_type": "stream",
     "text": [
      "55555\n",
      "4444\n",
      "333\n",
      "22\n",
      "1\n"
     ]
    }
   ],
   "source": [
    "for i in range(5, 0, -1):\n",
    "    for j in range(5, 0, -1): #for j in range(1, i + 1)\n",
    "        if i >= j:\n",
    "            print(i, end='')\n",
    "    print()"
   ]
  }
 ],
 "metadata": {
  "kernelspec": {
   "display_name": "Python 3 (ipykernel)",
   "language": "python",
   "name": "python3"
  },
  "language_info": {
   "codemirror_mode": {
    "name": "ipython",
    "version": 3
   },
   "file_extension": ".py",
   "mimetype": "text/x-python",
   "name": "python",
   "nbconvert_exporter": "python",
   "pygments_lexer": "ipython3",
   "version": "3.11.7"
  }
 },
 "nbformat": 4,
 "nbformat_minor": 5
}
