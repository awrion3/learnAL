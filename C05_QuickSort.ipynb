{
 "cells": [
  {
   "cell_type": "code",
   "execution_count": 6,
   "id": "1ff8a750-99ba-4aba-8b34-9b9991f6258b",
   "metadata": {},
   "outputs": [],
   "source": [
    "import numpy as np\n",
    "import matplotlib.pyplot as plt\n",
    "import time"
   ]
  },
  {
   "cell_type": "markdown",
   "id": "846799b2-2019-4f5e-9b85-5fbad18e8f4d",
   "metadata": {},
   "source": [
    "### Question 1: Basic Quicksort"
   ]
  },
  {
   "cell_type": "code",
   "execution_count": 3,
   "id": "d80ac830-a23d-4d09-957f-41e6b8ae7d09",
   "metadata": {},
   "outputs": [],
   "source": [
    "def basic_quicksort(arr):\n",
    "    #stopping condition for array size <= 1\n",
    "    if len(arr) <= 1:\n",
    "        return arr\n",
    "    \n",
    "    #middle elem as pivot\n",
    "    pivot = arr[len(arr) // 2]\n",
    "    \n",
    "    #basic quicksort using list comprehensionz\n",
    "    left = [x for x in arr if x < pivot] \n",
    "    middle = [x for x in arr if x == pivot]\n",
    "    right = [x for x in arr if x > pivot]\n",
    "\n",
    "    #recursive sorting and if reached end; as in size <= 1, returns arr recursively\n",
    "    return basic_quicksort(left) + middle + basic_quicksort(right)\n",
    "    #returning combined left + middle + right once"
   ]
  },
  {
   "cell_type": "code",
   "execution_count": 4,
   "id": "2f8c7c5a-dcc6-4774-a01d-40997714329a",
   "metadata": {},
   "outputs": [
    {
     "data": {
      "text/plain": [
       "[0, 1, 2, 3, 4, 5, 6, 7, 8, 9]"
      ]
     },
     "execution_count": 4,
     "metadata": {},
     "output_type": "execute_result"
    }
   ],
   "source": [
    "arr = [5, 2, 8, 6, 0, 7, 1, 4, 9, 3]\n",
    "sorted_arr = basic_quicksort(arr)\n",
    "sorted_arr"
   ]
  },
  {
   "cell_type": "markdown",
   "id": "359bf796-9260-472f-b431-0c15d0949c02",
   "metadata": {},
   "source": [
    "### Question 2: Partitioning"
   ]
  },
  {
   "cell_type": "code",
   "execution_count": 9,
   "id": "3b4ce548-4286-49fb-a262-982532d17744",
   "metadata": {
    "slideshow": {
     "slide_type": ""
    },
    "tags": []
   },
   "outputs": [],
   "source": [
    "def partition(arr, start, end): #위의 basic과 달리 실제 quicksort는 partition을 사용해 inplace로 정렬\n",
    "    pivot = arr[end]         #pivot elem at index r (end index)\n",
    "    i = start - 1               #starts from out of bound (index -1)\n",
    "    for j in range(start, end):  #using range, automatically excludes index r pivot elem\n",
    "        if arr[j] <= pivot:  #only if elem at index j belongs in low side\n",
    "            i = i + 1         #move i up (to consider starting from -1 index)\n",
    "            arr[i], arr[j] = arr[j], arr[i]         #move j elem to low side\n",
    "    #update pivot elem to +1 next to low side        \n",
    "    arr[i + 1], arr[end] = arr[end], arr[i + 1] \n",
    "    return i + 1             #return updated pivot index final location"
   ]
  },
  {
   "cell_type": "code",
   "execution_count": 9,
   "id": "bbce3d1b-99f1-41d5-865c-94821696bc6f",
   "metadata": {},
   "outputs": [
    {
     "name": "stdout",
     "output_type": "stream",
     "text": [
      "pivot index: 3\n",
      "after partition: [2, 0, 1, 3, 5, 7, 8, 4, 9, 6]\n"
     ]
    }
   ],
   "source": [
    "arr = [5, 2, 8, 6, 0, 7, 1, 4, 9, 3]\n",
    "pivot_index = partition(arr, 0, len(arr) - 1)\n",
    "print(\"pivot index:\", pivot_index)\n",
    "print(\"after partition:\", arr)     #partition called one time"
   ]
  },
  {
   "cell_type": "markdown",
   "id": "3f2afc3c-e4bc-49bc-9b9c-73ccbc4dec1c",
   "metadata": {},
   "source": [
    "### Question 3: Quicksort with Partitioning"
   ]
  },
  {
   "cell_type": "code",
   "execution_count": 10,
   "id": "ec2df63b-1908-4a4e-81a6-7429c37aa06f",
   "metadata": {},
   "outputs": [],
   "source": [
    "def quicksort(arr, start, end):\n",
    "    if start < end:                              #as long as [p...r] array exists\n",
    "        pivot_index = partition(arr, start, end) #sorting using pivot will happen in recursive way \n",
    "        #regarding newly divided two partions;\n",
    "        quicksort(arr, start, pivot_index - 1) #recursively call sorting on low side\n",
    "        quicksort(arr, pivot_index + 1, end)   #recursively call sorting on high side"
   ]
  },
  {
   "cell_type": "code",
   "execution_count": 11,
   "id": "0c19e766-b306-4ab9-b292-02deda62b939",
   "metadata": {},
   "outputs": [
    {
     "name": "stdout",
     "output_type": "stream",
     "text": [
      "Quicksort Result: [0, 1, 2, 3, 4, 5, 6, 7, 8, 9]\n"
     ]
    }
   ],
   "source": [
    "arr = [5, 2, 8, 6, 0, 7, 1, 4, 9, 3]\n",
    "quicksort(arr, 0, len(arr) - 1)\n",
    "print(\"Quicksort Result:\", arr)"
   ]
  },
  {
   "cell_type": "markdown",
   "id": "43ed461f-837b-4373-9f05-d98e58265504",
   "metadata": {},
   "source": [
    "### Question 4: Randomized Quicksort"
   ]
  },
  {
   "cell_type": "code",
   "execution_count": 12,
   "id": "116c87c1-319c-462d-83ea-26882f3873ed",
   "metadata": {},
   "outputs": [],
   "source": [
    "def randomized_partition(arr, start, end):\n",
    "    pivot_index = np.random.randint(start, end) #picks random index for pivot elem besides r (end)\n",
    "    arr[pivot_index], arr[end] = arr[end], arr[pivot_index] #update to new pivot elem\n",
    "    return partition(arr, start, end) \n",
    "    #using the new pivot, call partition then, return once-sorted result with updated pivot index"
   ]
  },
  {
   "cell_type": "code",
   "execution_count": 13,
   "id": "9bba7884-ae73-4ff5-80ab-45902814f007",
   "metadata": {},
   "outputs": [],
   "source": [
    "def randomized_quicksort(arr, start, end):\n",
    "    if start < end:                  #as long as [p...r] array exists\n",
    "        #each time pivot_index will be different (to prevent worst balanced sorting keeps happening)\n",
    "        pivot_index = randomized_partition(arr, start, end)\n",
    "        #regarding newly divided two partions;\n",
    "        randomized_quicksort(arr, start, pivot_index - 1) #recursively sorting low side\n",
    "        randomized_quicksort(arr, pivot_index + 1, end)   #recursively sorting high side"
   ]
  },
  {
   "cell_type": "code",
   "execution_count": 14,
   "id": "a664e297-9ef8-4139-bc8f-4236a5e46163",
   "metadata": {},
   "outputs": [
    {
     "name": "stdout",
     "output_type": "stream",
     "text": [
      "Randomized Quicksort Result: [0, 1, 2, 3, 4, 5, 6, 7, 8, 9]\n"
     ]
    }
   ],
   "source": [
    "arr = [5, 2, 8, 6, 0, 7, 1, 4, 9, 3]\n",
    "randomized_quicksort(arr, 0, len(arr) - 1)\n",
    "print(\"Randomized Quicksort Result:\", arr)"
   ]
  },
  {
   "cell_type": "markdown",
   "id": "13e2741f-72b2-41e0-a1ec-b9af03a76b4b",
   "metadata": {},
   "source": [
    "### Checking Time: Quicksort vs Randomized Quicksort"
   ]
  },
  {
   "cell_type": "code",
   "execution_count": 19,
   "id": "48786189-e316-411c-9ebd-843324c7132d",
   "metadata": {},
   "outputs": [],
   "source": [
    "import sys\n",
    "#increase recursion limit to 2000 (default: 1000)\n",
    "sys.setrecursionlimit(2000) \n",
    "#generate random large arrays: each appends random values for range times\n",
    "arr1 = [np.random.randint(0, 100000) for _ in range(100000)] \n",
    "arr2 = [np.random.randint(0, 1000000) for _ in range(1000000)]"
   ]
  },
  {
   "cell_type": "code",
   "execution_count": 20,
   "id": "73540570-6250-47e2-803b-f92663a36c9e",
   "metadata": {},
   "outputs": [
    {
     "name": "stdout",
     "output_type": "stream",
     "text": [
      "Elapsed time for array size 100000, using Quicksort: 0.14184856414794922 sec\n",
      "Elapsed time for array size 1000000, using Quicksort: 1.9873261451721191 sec\n"
     ]
    }
   ],
   "source": [
    "#Quicksort: check elapsed time for array 1 and 2\n",
    "start_time = time.time()\n",
    "quicksort(arr1, 0, len(arr1) - 1)\n",
    "end_time = time.time()\n",
    "print('Elapsed time for array size {}, using Quicksort: {} sec'.format(len(arr1), end_time - start_time))\n",
    "\n",
    "start_time = time.time()\n",
    "quicksort(arr2, 0, len(arr2) - 1)\n",
    "end_time = time.time()\n",
    "print('Elapsed time for array size {}, using Quicksort: {} sec'.format(len(arr2), end_time - start_time))      "
   ]
  },
  {
   "cell_type": "code",
   "execution_count": 22,
   "id": "48512e3d-1832-4275-9209-d0a1d27f5b2a",
   "metadata": {},
   "outputs": [
    {
     "name": "stdout",
     "output_type": "stream",
     "text": [
      "Elapsed time for array size 100000, using Randomized Quicksort: 0.2930576801300049 sec\n",
      "Elapsed time for array size 1000000, using Randomized Quicksort: 3.3336222171783447 sec\n"
     ]
    }
   ],
   "source": [
    "#Randomized Quicksort: check elapsed time for array 1 and 2\n",
    "start_time = time.time()\n",
    "randomized_quicksort(arr1, 0, len(arr1) - 1)\n",
    "end_time = time.time()\n",
    "print('Elapsed time for array size {}, using Randomized Quicksort: {} sec'.format(len(arr1), end_time - start_time))\n",
    "\n",
    "start_time = time.time()\n",
    "randomized_quicksort(arr2, 0, len(arr2) - 1)\n",
    "end_time = time.time()\n",
    "print('Elapsed time for array size {}, using Randomized Quicksort: {} sec'.format(len(arr2), end_time - start_time))      "
   ]
  },
  {
   "cell_type": "markdown",
   "id": "7373b992-522e-4c78-88a7-1a056412b25d",
   "metadata": {},
   "source": [
    "> Conclusion:\n",
    "randomized quicksort takes more time, why? random_partition에서 추가 연산이 존재하므로.\n",
    "then why use it?\n",
    "if imbalance(worst case) happens each time in partitioning, will take O(n^2)\n",
    "by randomized partition, can avoid: imbalance keeps happening, will take O(n log n)"
   ]
  },
  {
   "cell_type": "markdown",
   "id": "865a331f-403e-458b-9a58-0b7da813c50b",
   "metadata": {},
   "source": [
    "### Question 5: Descending Order of Randomized Quicksort"
   ]
  },
  {
   "cell_type": "code",
   "execution_count": 1,
   "id": "625855cf-3646-430e-b4e3-10e1572f4ca2",
   "metadata": {},
   "outputs": [],
   "source": [
    "def partition_descending(arr, start, end):\n",
    "    pivot = arr[end]         #pivot elem at index r (end index)\n",
    "    i = start - 1               #starts from out of bound (index -1)\n",
    "    for j in range(start, end):  #using range, automatically excludes index r pivot elem\n",
    "        if arr[j] >= pivot:  #only if elem at index j belongs in low side **larger value**\n",
    "            i = i + 1         #move i up (to consider starting from -1 index)\n",
    "            arr[i], arr[j] = arr[j], arr[i]         #move j elem to low side\n",
    "    #update pivot elem to +1 next to low side        \n",
    "    arr[i + 1], arr[end] = arr[end], arr[i + 1] \n",
    "    return i + 1             #return updated pivot index final location"
   ]
  },
  {
   "cell_type": "code",
   "execution_count": 2,
   "id": "befcab67-29b5-478e-8518-948864e1a5fe",
   "metadata": {},
   "outputs": [],
   "source": [
    "def randomized_partition_descending(arr, start, end):\n",
    "    pivot_index = np.random.randint(start, end)  #picks random index for pivot elem besides r (end)\n",
    "    arr[pivot_index], arr[end] = arr[end], arr[pivot_index] #update to new pivot elem\n",
    "    return partition_descending(arr, start, end) #**descending order**\n",
    "    #using the new pivot, call partition then, return once-sorted result with updated pivot index"
   ]
  },
  {
   "cell_type": "code",
   "execution_count": 3,
   "id": "c4609740-da1e-405f-9f51-756d47c39b17",
   "metadata": {},
   "outputs": [],
   "source": [
    "def randomized_quicksort_descending(arr, start, end):\n",
    "    if start < end:                  #as long as [p...r] array exists\n",
    "        #each time pivot_index will be different (to prevent worst balanced sorting keeps happening)\n",
    "        pivot_index = randomized_partition_descending(arr, start, end) #**descending order**\n",
    "        #regarding newly divided two partions;\n",
    "        randomized_quicksort_descending(arr, start, pivot_index - 1) #recursively sorting low side\n",
    "        randomized_quicksort_descending(arr, pivot_index + 1, end)   #recursively sorting high side"
   ]
  },
  {
   "cell_type": "code",
   "execution_count": 7,
   "id": "259fd1f4-82b0-496e-ba42-7742704e35a5",
   "metadata": {},
   "outputs": [
    {
     "name": "stdout",
     "output_type": "stream",
     "text": [
      "Randomized Quicksort Descending Order Result: [9, 8, 7, 6, 5, 4, 3, 2, 1, 0]\n"
     ]
    }
   ],
   "source": [
    "arr = [5, 2, 8, 6, 0, 7, 1, 4, 9, 3]\n",
    "randomized_quicksort_descending(arr, 0, len(arr) - 1)\n",
    "print(\"Randomized Quicksort Descending Order Result:\", arr)"
   ]
  },
  {
   "cell_type": "markdown",
   "id": "21bb95bc-c3ff-4712-9d9d-b382d37d77b9",
   "metadata": {},
   "source": [
    "### Checking Time Growth: Quicksort"
   ]
  },
  {
   "cell_type": "code",
   "execution_count": 13,
   "id": "69f69629-4173-4628-ad85-177318360d48",
   "metadata": {},
   "outputs": [
    {
     "data": {
      "image/png": "[encoded data removed]",
      "text/plain": [
       "<Figure size 640x480 with 1 Axes>"
      ]
     },
     "metadata": {},
     "output_type": "display_data"
    }
   ],
   "source": [
    "sample_sizes = [10, 100, 1000, 10000]\n",
    "quick_times = []\n",
    "for size in sample_sizes:\n",
    "    #creates arr_quick of size with random values within randint (repeats 4 times)\n",
    "    arr_quick = [np.random.randint(0, 10000) for _ in range(size)]\n",
    "    \n",
    "    start_time = time.time()\n",
    "    quicksort(arr_quick, 0, len(arr_quick)-1)\n",
    "    end_time = time.time()\n",
    "    #appends checked time result (repeats 4 times)\n",
    "    quick_times.append(end_time - start_time)\n",
    "\n",
    "#plot graph\n",
    "plt.plot(sample_sizes, quick_times, label='Quick Sort') #4 data points\n",
    "#plot text\n",
    "plt.xlabel('Input Size')\n",
    "plt.ylabel('Execution Time')\n",
    "plt.legend()\n",
    "#show graph\n",
    "plt.show()"
   ]
  },
  {
   "cell_type": "markdown",
   "id": "a05abd07-5b16-4f57-b4fa-3d1876b60c41",
   "metadata": {},
   "source": [
    "> selection == insertion : O(n^2)\n",
    "> quick <= merge == heap : O(nlogn)\n",
    "(quicksort is similar to merge sort but has more small number of constants)"
   ]
  }
 ],
 "metadata": {
  "kernelspec": {
   "display_name": "Python 3 (ipykernel)",
   "language": "python",
   "name": "python3"
  },
  "language_info": {
   "codemirror_mode": {
    "name": "ipython",
    "version": 3
   },
   "file_extension": ".py",
   "mimetype": "text/x-python",
   "name": "python",
   "nbconvert_exporter": "python",
   "pygments_lexer": "ipython3",
   "version": "3.12.3"
  }
 },
 "nbformat": 4,
 "nbformat_minor": 5
}
