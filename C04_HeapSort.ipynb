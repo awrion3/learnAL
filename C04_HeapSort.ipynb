{
 "cells": [
  {
   "cell_type": "markdown",
   "id": "32468274-2bd7-4ccd-b9e8-97da60262230",
   "metadata": {},
   "source": [
    "# Question 1. Heapsort in Ascending Order"
   ]
  },
  {
   "cell_type": "code",
   "execution_count": 14,
   "id": "1df8d8d0-f6ad-44d2-a3b3-6cae0838c26b",
   "metadata": {},
   "outputs": [],
   "source": [
    "#a) Heapify Operation\n",
    "def maxHeapify(arr, n, i): #P > C rule to starting from node i\n",
    "    l = i * 2 + 1 #0-base\n",
    "    r = i * 2 + 2\n",
    "    \n",
    "    if l < n and arr[l] > arr[i]: #n = current heap size\n",
    "        largest = l\n",
    "    else:\n",
    "        largest = i\n",
    "    if r < n and arr[r] > arr[largest]:\n",
    "        largest = r\n",
    "        \n",
    "    if largest != i:\n",
    "        arr[i], arr[largest] = arr[largest], arr[i] ###\n",
    "        maxHeapify(arr, n, largest)"
   ]
  },
  {
   "cell_type": "code",
   "execution_count": 15,
   "id": "9c4c52c1-641f-4b76-924c-7f178e37eedf",
   "metadata": {},
   "outputs": [],
   "source": [
    "#b) Build Max Heap\n",
    "def maxHeapBuild(arr, n):\n",
    "    for i in range(n//2 - 1, -1, -1):\n",
    "        maxHeapify(arr, n, i)"
   ]
  },
  {
   "cell_type": "code",
   "execution_count": 16,
   "id": "2a9f6407-ced4-4b88-96cd-1f4e9c4c2f69",
   "metadata": {},
   "outputs": [],
   "source": [
    "#c) Heapsort Algorithm \n",
    "def maxHeapsort(arr, n):\n",
    "    maxHeapBuild(arr, n) \n",
    "    for i in range(n - 1, 0, -1): #pseudo code len(arr)-1, 0(not included)\n",
    "        arr[0], arr[i] = arr[i], arr[0]\n",
    "        n -= 1 #decrease heap size by -1\n",
    "        maxHeapify(arr, n, 0)"
   ]
  },
  {
   "cell_type": "code",
   "execution_count": 17,
   "id": "adc164e9-2ea9-4c60-8e7e-460f9e67d4d5",
   "metadata": {},
   "outputs": [
    {
     "name": "stdout",
     "output_type": "stream",
     "text": [
      "[7, 2, 8, 6, 0, 5, 3, 4, 9, 1]\n"
     ]
    }
   ],
   "source": [
    "A = [5, 2, 7, 6, 0, 8, 3, 4, 9, 1]\n",
    "maxHeapify(A, len(A), 0)\n",
    "print(A)"
   ]
  },
  {
   "cell_type": "code",
   "execution_count": 18,
   "id": "046d750e-b289-46c7-be64-a0c7e0948bfe",
   "metadata": {},
   "outputs": [
    {
     "name": "stdout",
     "output_type": "stream",
     "text": [
      "[9, 6, 8, 5, 1, 7, 3, 4, 2, 0]\n"
     ]
    }
   ],
   "source": [
    "A = [5, 2, 7, 6, 0, 8, 3, 4, 9, 1] \n",
    "#if using the result from above, will lead to different result\n",
    "maxHeapBuild(A, len(A))\n",
    "print(A)"
   ]
  },
  {
   "cell_type": "code",
   "execution_count": 19,
   "id": "101987ab-641d-4fde-b1dc-39f66e4bcc91",
   "metadata": {},
   "outputs": [
    {
     "name": "stdout",
     "output_type": "stream",
     "text": [
      "[0, 1, 2, 3, 4, 5, 6, 7, 8, 9]\n"
     ]
    }
   ],
   "source": [
    "A = [5, 2, 7, 6, 0, 8, 3, 4, 9, 1]\n",
    "maxHeapsort(A, len(A))\n",
    "print(A)"
   ]
  },
  {
   "cell_type": "code",
   "execution_count": 10,
   "id": "f501cf2d-4448-4aef-b873-7df655b03b97",
   "metadata": {},
   "outputs": [],
   "source": [
    "#d) Time Analysis\n",
    "import numpy as np\n",
    "import time\n",
    "import matplotlib.pyplot as plt"
   ]
  },
  {
   "cell_type": "code",
   "execution_count": 23,
   "id": "6237aa2f-a12e-4417-93f9-0fa674523f08",
   "metadata": {},
   "outputs": [],
   "source": [
    "def maxHeapsortTime(values, sizes):\n",
    "    time_sort = []\n",
    "    for i, j in zip(values, sizes): #using zip\n",
    "        arr = np.random.randint(i, size= j)\n",
    "    \n",
    "        start = time.time()\n",
    "        maxHeapsort(arr, len(arr))\n",
    "        finish = time.time()\n",
    "        \n",
    "        time_sort.append(finish-start)\n",
    "    return time_sort\n",
    "\n",
    "def displayGraph(sizes, result):\n",
    "    plt.plot(sizes, result, label=\"Heap Sort\")\n",
    "    \n",
    "    plt.xlabel(\"Sizes of Arrays\")\n",
    "    plt.ylabel(\"Heap Sorting Time\")\n",
    "    \n",
    "    plt.legend()\n",
    "    plt.show()"
   ]
  },
  {
   "cell_type": "code",
   "execution_count": 25,
   "id": "7c7ed73f-78e9-4f03-99c9-4be62ddda4dd",
   "metadata": {},
   "outputs": [
    {
     "name": "stdout",
     "output_type": "stream",
     "text": [
      "Heapsort Time: [0.004001140594482422, 0.7503507137298584, 9.005678415298462]\n"
     ]
    }
   ],
   "source": [
    "sizes = [1000, 100000, 1000000]\n",
    "values = [10000, 1000000, 10000000] \n",
    "\n",
    "result = maxHeapsortTime(values, sizes)\n",
    "print(\"Heapsort Time: \", end='')\n",
    "print(result)"
   ]
  },
  {
   "cell_type": "code",
   "execution_count": 26,
   "id": "9b591e18-e002-4de3-a379-c8e19a329edd",
   "metadata": {},
   "outputs": [
    {
     "data": {
      "image/png": "[encoded data removed]",
      "text/plain": [
       "<Figure size 640x480 with 1 Axes>"
      ]
     },
     "metadata": {},
     "output_type": "display_data"
    }
   ],
   "source": [
    "displayGraph(sizes, result)"
   ]
  },
  {
   "cell_type": "markdown",
   "id": "b43d9a65-0734-4a17-9f50-644a82eced40",
   "metadata": {},
   "source": [
    "# Question 2. Heapsort in Descending Order"
   ]
  },
  {
   "cell_type": "code",
   "execution_count": 30,
   "id": "9341a787-42ee-41e8-a840-f76ee8b22b59",
   "metadata": {},
   "outputs": [],
   "source": [
    "def minHeapify(arr, n, i): #P < C rule to starting from node i\n",
    "    l = i * 2 + 1 #0-base\n",
    "    r = i * 2 + 2\n",
    "    \n",
    "    if l < n and arr[l] < arr[i]: #n = current heap size\n",
    "        smallest = l\n",
    "    else:\n",
    "        smallest = i\n",
    "    if r < n and arr[r] < arr[smallest]:\n",
    "        smallest = r\n",
    "        \n",
    "    if smallest != i:\n",
    "        arr[i], arr[smallest] = arr[smallest], arr[i] ###\n",
    "        minHeapify(arr, n, smallest)"
   ]
  },
  {
   "cell_type": "code",
   "execution_count": 31,
   "id": "6f2ee22a-a7d6-431d-9206-da0a4761e3f4",
   "metadata": {},
   "outputs": [],
   "source": [
    "def minHeapBuild(arr, n):\n",
    "    for i in range(n//2-1, -1, -1):\n",
    "        minHeapify(arr, n, i)"
   ]
  },
  {
   "cell_type": "code",
   "execution_count": 32,
   "id": "668fce40-f682-4367-9c41-17220d580ee4",
   "metadata": {},
   "outputs": [],
   "source": [
    "def minHeapsort(arr, n):\n",
    "    minHeapBuild(arr, n) \n",
    "    for i in range(n-1, 0, -1): #pseudo cpde len(arr)-1, 0(not included)\n",
    "        arr[0], arr[i] = arr[i], arr[0]\n",
    "        n -= 1 #decrease heap size by -1\n",
    "        minHeapify(arr, n, 0)"
   ]
  },
  {
   "cell_type": "code",
   "execution_count": 33,
   "id": "f10be887-3daa-4460-b460-77f77bdb5753",
   "metadata": {},
   "outputs": [
    {
     "name": "stdout",
     "output_type": "stream",
     "text": [
      "[2, 0, 7, 6, 1, 8, 3, 4, 9, 5]\n"
     ]
    }
   ],
   "source": [
    "B = [5, 2, 7, 6, 0, 8, 3, 4, 9, 1]\n",
    "minHeapify(B, len(B), 0)\n",
    "print(B)"
   ]
  },
  {
   "cell_type": "code",
   "execution_count": 36,
   "id": "1486376b-0892-4508-b38e-050ca17b119c",
   "metadata": {},
   "outputs": [
    {
     "name": "stdout",
     "output_type": "stream",
     "text": [
      "[0, 1, 3, 4, 2, 8, 7, 6, 9, 5]\n"
     ]
    }
   ],
   "source": [
    "B = [5, 2, 7, 6, 0, 8, 3, 4, 9, 1]\n",
    "minHeapBuild(B, len(B))\n",
    "print(B) #value 0 relocated at root"
   ]
  },
  {
   "cell_type": "code",
   "execution_count": 35,
   "id": "d59834ed-3ce6-43db-b9bd-a258ae7024b7",
   "metadata": {},
   "outputs": [
    {
     "name": "stdout",
     "output_type": "stream",
     "text": [
      "[9, 8, 7, 6, 5, 4, 3, 2, 1, 0]\n"
     ]
    }
   ],
   "source": [
    "B = [5, 2, 7, 6, 0, 8, 3, 4, 9, 1]\n",
    "minHeapsort(B, len(B))\n",
    "print(B)"
   ]
  },
  {
   "cell_type": "markdown",
   "id": "ab49428c-ea7f-45b5-896e-398941776263",
   "metadata": {},
   "source": [
    "# Question 3. Priority Queue Implementation"
   ]
  },
  {
   "cell_type": "code",
   "execution_count": 74,
   "id": "c1d9f9c7-7751-4eea-8b88-54a9dce13dc2",
   "metadata": {},
   "outputs": [],
   "source": [
    "class MaxHeap:\n",
    "    def __init__(self):\n",
    "        self.heap = []\n",
    "        \n",
    "    def show_heap(self):\n",
    "        return (self.heap)\n",
    "    #    \n",
    "    def size_len(self):\n",
    "        return len(self.heap)\n",
    "    \n",
    "    def is_empty(self):\n",
    "        return len(self.heap) == 0\n",
    "     #   \n",
    "    def find_max(self):\n",
    "        \"\"\" Returns the maximum element in the heap \"\"\"\n",
    "        if len(self.heap) == 0:\n",
    "            return None\n",
    "        return self.heap[0] #returns the root element\n",
    "        \n",
    "    def extract_max(self):\n",
    "        \"\"\" Removes and returns the maximum element from the heap \"\"\"\n",
    "        if len(self.heap) == 0:\n",
    "            return None\n",
    "        max_element = self.heap[0]\n",
    "        # Move the last element to the root and heapify down\n",
    "        self.heap[0] = self.heap[-1]\n",
    "        self.heap.pop()  # Remove the last element (shrink length)\n",
    "        maxHeapify(self.heap, len(self.heap), 0) #OR self._heapify_down(0) #Re-establish heap starting from root\n",
    "        return max_element\n",
    "    #\n",
    "    def insert(self, val):\n",
    "        \"\"\" Inserts a new value into the heap \"\"\"\n",
    "        self.heap.append(val)\n",
    "        self._heapify_up(len(self.heap) - 1) #move up the last inserted elem to correct place\n",
    "    \n",
    "    def _heapify_up(self, index): #same as increase key value\n",
    "        \"\"\" Maintains the max heap property by moving the element at `index` up \"\"\"\n",
    "        parent = (index - 1) // 2 #careful with parent node index calculation\n",
    "        print(self.heap, end='->')\n",
    "        while parent >= 0 and self.heap[parent] < self.heap[index]:\n",
    "            # Swap the current element with its parent\n",
    "            self.heap[index], self.heap[parent] = self.heap[parent], self.heap[index]\n",
    "            # repeat till it reaches root or not p < c anymore\n",
    "            index = parent\n",
    "            parent = (index - 1) // 2\n",
    "        print(self.heap)\n",
    "    #\n",
    "    # def _heapify_down(self, index): #same as maxHeapify\n",
    "    #     \"\"\" Maintains the max heap property by moving the element at `index` down \"\"\"\n",
    "    #     left = index * 2 + 1\n",
    "    #     right = index * 2 + 2\n",
    "    #     largest = index\n",
    "        \n",
    "    #     if left < len(self.heap) and self.heap[left] > self.heap[largest]:\n",
    "    #         largest = left\n",
    "    #     if right < len(self.heap) and self.heap[right] > self.heap[largest]:\n",
    "    #         largest = right\n",
    "            \n",
    "    #     if largest != index:\n",
    "    #         # Swap and continue heapifying down\n",
    "    #         self.heap[index], self.heap[largest] = self.heap[largest], self.heap[index]\n",
    "    #         self._heapify_down(largest) #re-establish max heap rule starting from the node"
   ]
  },
  {
   "cell_type": "code",
   "execution_count": 76,
   "id": "cf1558e0-334e-44d3-bccb-33c4eb7790bc",
   "metadata": {},
   "outputs": [
    {
     "name": "stdout",
     "output_type": "stream",
     "text": [
      "True\n",
      "[3]->[3]\n",
      "[3]\n",
      "[3, 5]->[5, 3]\n",
      "[5, 3]\n",
      "[5, 3, 9]->[9, 3, 5]\n",
      "[9, 3, 5]\n",
      "[9, 3, 5, 6]->[9, 6, 5, 3]\n",
      "[9, 6, 5, 3]\n",
      "[9, 6, 5, 3, 8]->[9, 8, 5, 3, 6]\n",
      "[9, 8, 5, 3, 6]\n",
      "9\n",
      "8\n",
      "[8, 6, 5, 3]\n"
     ]
    }
   ],
   "source": [
    "# Example usage:\n",
    "pq = MaxHeap()\n",
    "print(pq.is_empty()) #checks if the heap is empty\n",
    "\n",
    "pq.insert(3) #inserting 3, 5, 9, 6, 8\n",
    "print(pq.show_heap())\n",
    "pq.insert(5)\n",
    "print(pq.show_heap())\n",
    "pq.insert(9)\n",
    "print(pq.show_heap())\n",
    "pq.insert(6)\n",
    "print(pq.show_heap())\n",
    "pq.insert(8)\n",
    "print(pq.show_heap())\n",
    "\n",
    "print(pq.extract_max()) #pops root\n",
    "print(pq.find_max()) #returns new root\n",
    "print(pq.show_heap())"
   ]
  }
 ],
 "metadata": {
  "kernelspec": {
   "display_name": "Python 3 (ipykernel)",
   "language": "python",
   "name": "python3"
  },
  "language_info": {
   "codemirror_mode": {
    "name": "ipython",
    "version": 3
   },
   "file_extension": ".py",
   "mimetype": "text/x-python",
   "name": "python",
   "nbconvert_exporter": "python",
   "pygments_lexer": "ipython3",
   "version": "3.12.4"
  }
 },
 "nbformat": 4,
 "nbformat_minor": 5
}
