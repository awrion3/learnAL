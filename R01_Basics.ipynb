{
 "cells": [
  {
   "cell_type": "markdown",
   "metadata": {
    "id": "ceTWM_gwO0Z0"
   },
   "source": [
    "###1. Algorithm Basics"
   ]
  },
  {
   "cell_type": "markdown",
   "metadata": {
    "id": "MdM08471u_Hs"
   },
   "source": [
    "* Algorithm vs Data Structure\n",
    "* Efficiency & Accuracy"
   ]
  },
  {
   "cell_type": "markdown",
   "metadata": {
    "id": "d8Azi4pWZ-X8"
   },
   "source": [
    "###2. Python Basics"
   ]
  },
  {
   "cell_type": "markdown",
   "metadata": {
    "id": "wkj2YFEwc3U9"
   },
   "source": [
    "####2-1. Operator"
   ]
  },
  {
   "cell_type": "markdown",
   "metadata": {
    "id": "_SmceSlHg_tP"
   },
   "source": [
    ">Arithmetic : PEMDAS -\n",
    "parentheses ()\n",
    "exponents **\n",
    "multiplication *\n",
    "division /\n",
    "addition +\n",
    "subtraction -"
   ]
  },
  {
   "cell_type": "code",
   "execution_count": null,
   "metadata": {
    "id": "bHMwhj8Pcwje"
   },
   "outputs": [],
   "source": [
    "x = 1\n",
    "y = 2\n",
    "print(x + y) #Addition: adds two operands\n",
    "print(x - y) #Subtraction: subtracts two operands\n",
    "print(x * y) #Multiplication: multiplies two operands\n",
    "print(x / y) #Division (float): divides the first operand by the second\n",
    "x = 3\n",
    "print(x // y) #Division (floor): divides the first operand by the second\n",
    "x = 2\n",
    "print(x % y)  #Modulus: returns the remainder when the first operand is divided by the second\n",
    "print(x ** y) #Power (Exponent): Returns first raised to power second"
   ]
  },
  {
   "cell_type": "markdown",
   "metadata": {
    "id": "IzG856QEg8cn"
   },
   "source": [
    ">Logical"
   ]
  },
  {
   "cell_type": "code",
   "execution_count": null,
   "metadata": {
    "id": "QTxzujYMg54P"
   },
   "outputs": [],
   "source": [
    "x = 1\n",
    "y = 3\n",
    "print(x < y)\n",
    "print(x > y)\n",
    "print(x == y)\n",
    "print(x != y)\n",
    "print(x <= y)\n",
    "print(x >= y)"
   ]
  },
  {
   "cell_type": "markdown",
   "metadata": {
    "id": "JGOCpjrehEq6"
   },
   "source": [
    ">Boolean"
   ]
  },
  {
   "cell_type": "code",
   "execution_count": null,
   "metadata": {
    "id": "5vDKAVJChFms"
   },
   "outputs": [],
   "source": [
    "x = 1\n",
    "y = 2\n",
    "print(x < y or x > y)\n",
    "print(x < y and x > y)\n",
    "print(not x < y)"
   ]
  },
  {
   "cell_type": "markdown",
   "metadata": {
    "id": "mJ0NhcMxc8mq"
   },
   "source": [
    "####2-2. Format"
   ]
  },
  {
   "cell_type": "markdown",
   "metadata": {
    "id": "yjjZhVa-i4R9"
   },
   "source": [
    ">Output"
   ]
  },
  {
   "cell_type": "code",
   "execution_count": null,
   "metadata": {
    "id": "MhnIrcSWOvYA"
   },
   "outputs": [],
   "source": [
    "print(\"%x\" %15)"
   ]
  },
  {
   "cell_type": "code",
   "execution_count": null,
   "metadata": {
    "id": "_sjUOlfCcglO"
   },
   "outputs": [],
   "source": [
    "print(\"{:0.5f}\".format(3.2 + 2.1))\n",
    "print(\"{0:!<7}\".format(\"Hi\"))"
   ]
  },
  {
   "cell_type": "code",
   "execution_count": null,
   "metadata": {
    "id": "O2YgcgQpcjlX"
   },
   "outputs": [],
   "source": [
    "s = f\"There are {5} {'apple'}s.\"\n",
    "print(s)"
   ]
  },
  {
   "cell_type": "code",
   "execution_count": null,
   "metadata": {
    "id": "3iopr1dWdpVk"
   },
   "outputs": [],
   "source": [
    "print(1, 2, 3, 4, sep='&')\n",
    "print(\"Hello\", end='?')"
   ]
  },
  {
   "cell_type": "markdown",
   "metadata": {
    "id": "hhzV0ls-i6e7"
   },
   "source": [
    ">Input"
   ]
  },
  {
   "cell_type": "code",
   "execution_count": null,
   "metadata": {
    "id": "6-s0rgF3i7Va"
   },
   "outputs": [],
   "source": [
    "age = int(input(\"Enter your age: \"))\n",
    "print(f\"You are {age} years old.\")"
   ]
  },
  {
   "cell_type": "code",
   "execution_count": null,
   "metadata": {
    "id": "UcuTqXUmqqXM"
   },
   "outputs": [],
   "source": [
    "numbers = input(\"Enter numbers separated by spaces: \").split()\n",
    "print(f\"You entered: {numbers}\")"
   ]
  },
  {
   "cell_type": "markdown",
   "metadata": {
    "id": "IqVcyU-kol8j"
   },
   "source": [
    ">Files"
   ]
  },
  {
   "cell_type": "code",
   "execution_count": null,
   "metadata": {
    "id": "TUlTygTOonnb"
   },
   "outputs": [],
   "source": [
    "with open('test.txt', 'r') as f1:\n",
    "  text = f1.read()\n",
    "\n",
    "print(text)"
   ]
  },
  {
   "cell_type": "code",
   "execution_count": null,
   "metadata": {
    "id": "80dVRheHozIu"
   },
   "outputs": [],
   "source": [
    "f2 = open('myfile.txt', 'w')\n",
    "\n",
    "L = [\"This is the first line.\\nThis is the second line.\\nThis is the third line.\\n\"]\n",
    "f2.write(\"Header\\n\")\n",
    "f2.writelines(L)"
   ]
  },
  {
   "cell_type": "code",
   "execution_count": null,
   "metadata": {
    "id": "1D_W-XIRo6Cc"
   },
   "outputs": [],
   "source": [
    "try:\n",
    "  f3 = open('nofile.txt')\n",
    "  for line in f3:\n",
    "    print(line)\n",
    "  f3.close()\n",
    "except:\n",
    "  print('something is wrong')"
   ]
  },
  {
   "cell_type": "markdown",
   "metadata": {
    "id": "rZ6hEcqzeLM6"
   },
   "source": [
    "####2-3. Data Type"
   ]
  },
  {
   "cell_type": "markdown",
   "metadata": {
    "id": "pmwbzP-xexWT"
   },
   "source": [
    ">String"
   ]
  },
  {
   "cell_type": "code",
   "execution_count": null,
   "metadata": {
    "id": "YMSS59fIeNUs"
   },
   "outputs": [],
   "source": [
    "s = \"life is great\"\n",
    "print(s.count('e'))\n",
    "print(s.index('e')) #first same letter\n",
    "\n",
    "print(s.find('e'))\n",
    "print(s.find('e', 4))     #find starts from number\n",
    "print(s.find('e', 4, 7))  #and steps from second number"
   ]
  },
  {
   "cell_type": "code",
   "execution_count": null,
   "metadata": {
    "id": "BI1kSyH9ePqC"
   },
   "outputs": [],
   "source": [
    "s = \"goodnight\"\n",
    "print(s.capitalize())\n",
    "print(s.upper()) #.lower()\n",
    "print(s)"
   ]
  },
  {
   "cell_type": "code",
   "execution_count": null,
   "metadata": {
    "id": "7eUy_DpBeTCH"
   },
   "outputs": [],
   "source": [
    "print(\",\".join(\"ABCD\"))\n",
    "print(\" ABCDE \".strip()) #.lstrip() #.rstrip()"
   ]
  },
  {
   "cell_type": "code",
   "execution_count": null,
   "metadata": {
    "id": "FMKB1AFOeT2P"
   },
   "outputs": [],
   "source": [
    "s = \"This is left.\"\n",
    "s.replace(\"left\", \"right\")\n",
    "print(s)"
   ]
  },
  {
   "cell_type": "code",
   "execution_count": null,
   "metadata": {
    "id": "v49SE2JQeVe8"
   },
   "outputs": [],
   "source": [
    "s = \"I think it is there.\"\n",
    "s.split() #split a string to a list"
   ]
  },
  {
   "cell_type": "code",
   "execution_count": null,
   "metadata": {
    "id": "Xupq1yfqjvbY"
   },
   "outputs": [],
   "source": [
    "#ord(c)\n",
    "print(ord('A'))"
   ]
  },
  {
   "cell_type": "markdown",
   "metadata": {
    "id": "ae791gwnezSf"
   },
   "source": [
    ">List"
   ]
  },
  {
   "cell_type": "code",
   "execution_count": null,
   "metadata": {
    "id": "7dhuWqdee1P3"
   },
   "outputs": [],
   "source": [
    "s = [1, 2, 3, 4]\n",
    "print(s[0])\n",
    "print(s[-1])"
   ]
  },
  {
   "cell_type": "code",
   "execution_count": null,
   "metadata": {
    "id": "T1JjEY4ve9of"
   },
   "outputs": [],
   "source": [
    "a = [1, 2, 3]\n",
    "b = [4, 5, 6]\n",
    "c = a + b\n",
    "print(c)"
   ]
  },
  {
   "cell_type": "code",
   "execution_count": null,
   "metadata": {
    "id": "64wo6TCqfA7r"
   },
   "outputs": [],
   "source": [
    "b = [1, 2, 2, 2, 5]\n",
    "b[2:4] = [3, 4] #use slicing to change several elements at once\n",
    "print(b)"
   ]
  },
  {
   "cell_type": "code",
   "execution_count": null,
   "metadata": {
    "id": "HfdN1qe4fI1p"
   },
   "outputs": [],
   "source": [
    "st = \"Sejong\"\n",
    "list(st)"
   ]
  },
  {
   "cell_type": "code",
   "execution_count": null,
   "metadata": {
    "id": "xxsJ3Jd1fLeB"
   },
   "outputs": [],
   "source": [
    "s = list()\n",
    "print(s)\n",
    "s.append(1)\n",
    "print(s)\n",
    "print(len(s))"
   ]
  },
  {
   "cell_type": "code",
   "execution_count": null,
   "metadata": {
    "id": "3fcSAFUYfODb"
   },
   "outputs": [],
   "source": [
    "s.insert(1, 2) #s[1] = 2\n",
    "print(s)\n",
    "s.extend([3, 4, 5])\n",
    "print(s)"
   ]
  },
  {
   "cell_type": "code",
   "execution_count": null,
   "metadata": {
    "id": "STzAIiYGfWh6"
   },
   "outputs": [],
   "source": [
    "s = [1, 2, 3, 4, 5, 6]\n",
    "s.remove(2)\n",
    "print(s)"
   ]
  },
  {
   "cell_type": "code",
   "execution_count": null,
   "metadata": {
    "id": "jUIRc31YfTAU"
   },
   "outputs": [],
   "source": [
    "s = [1, 2, 3, 4, 5, 6]\n",
    "del s[1]\n",
    "print(s)"
   ]
  },
  {
   "cell_type": "code",
   "execution_count": null,
   "metadata": {
    "id": "DTw7kooLfcBK"
   },
   "outputs": [],
   "source": [
    "s = [1, 2, 3, 4, 5, 6]\n",
    "print(s.pop()) #pop out last element (stack)\n",
    "print(s)"
   ]
  },
  {
   "cell_type": "code",
   "execution_count": null,
   "metadata": {
    "id": "1S65Fb0ffg2v"
   },
   "outputs": [],
   "source": [
    "s = [1, 2, 3, 4, 5, 6]\n",
    "s.clear()\n",
    "print(s)"
   ]
  },
  {
   "cell_type": "code",
   "execution_count": null,
   "metadata": {
    "id": "uF4OEwMBffIp"
   },
   "outputs": [],
   "source": [
    "s = [1, 3, 4, 6, 5, 2]\n",
    "s.sort()\n",
    "print(s)"
   ]
  },
  {
   "cell_type": "code",
   "execution_count": null,
   "metadata": {
    "id": "Qc_riXjgfjRt"
   },
   "outputs": [],
   "source": [
    "s = [1, 3, 4, 6, 5, 2]\n",
    "s.reverse() #does not sort, just reverse\n",
    "print(s)"
   ]
  },
  {
   "cell_type": "code",
   "execution_count": null,
   "metadata": {
    "id": "2i662yPZflgy"
   },
   "outputs": [],
   "source": [
    "s = [1, 3, 6, 9, 3, 7, 10]\n",
    "s.count(3)"
   ]
  },
  {
   "cell_type": "code",
   "execution_count": null,
   "metadata": {
    "id": "iBwz-gg3fvKV"
   },
   "outputs": [],
   "source": [
    "s[-2:2:-2] #include 7~ #~not include s[2] #reverse step"
   ]
  },
  {
   "cell_type": "code",
   "execution_count": null,
   "metadata": {
    "id": "WA8DuUuvf4TW"
   },
   "outputs": [],
   "source": [
    "12 not in [1, 2, 3]"
   ]
  },
  {
   "cell_type": "markdown",
   "metadata": {
    "id": "f7o_Zkw4gQMc"
   },
   "source": [
    ">Set"
   ]
  },
  {
   "cell_type": "code",
   "execution_count": null,
   "metadata": {
    "id": "PnZrsedtgO6F"
   },
   "outputs": [],
   "source": [
    "a = set([1, 2, 3, 4, 5, 6])\n",
    "b = set([4, 5, 6, 7, 8, 9])\n",
    "print(a & b)\n",
    "print(a.intersection(b))"
   ]
  },
  {
   "cell_type": "markdown",
   "metadata": {
    "id": "JnC8C1JfgRU9"
   },
   "source": [
    ">Dictionary"
   ]
  },
  {
   "cell_type": "code",
   "execution_count": null,
   "metadata": {
    "id": "7wL8W_uOgSlD"
   },
   "outputs": [],
   "source": [
    "#{Key1: Value1, Key2: Value2, Key3: Value3, ...}\n",
    "dic = {'name': 'pey', 'month': 11, 'room': [101, 102, 103]}"
   ]
  },
  {
   "cell_type": "code",
   "execution_count": null,
   "metadata": {
    "id": "M10tbkOvgXQl"
   },
   "outputs": [],
   "source": [
    "list(dic.keys())"
   ]
  },
  {
   "cell_type": "code",
   "execution_count": null,
   "metadata": {
    "id": "t8gdY1h2gZ2B"
   },
   "outputs": [],
   "source": [
    "list(dic.values())"
   ]
  },
  {
   "cell_type": "code",
   "execution_count": null,
   "metadata": {
    "id": "ijegsk_BgaqZ"
   },
   "outputs": [],
   "source": [
    "dic.items() #returns dict_items object and uses tuple\n",
    "dic.get(\"dog\") #if no key returns None"
   ]
  },
  {
   "cell_type": "code",
   "execution_count": null,
   "metadata": {
    "id": "_cOvwcJZgerQ"
   },
   "outputs": [],
   "source": [
    "del dic['room'] #delete using key\n",
    "dic"
   ]
  },
  {
   "cell_type": "markdown",
   "metadata": {
    "id": "eYRJ50XRh-NG"
   },
   "source": [
    ">Tuple"
   ]
  },
  {
   "cell_type": "code",
   "execution_count": null,
   "metadata": {
    "id": "H7CPOXY1gInH"
   },
   "outputs": [],
   "source": [
    "#tuple can be used in function to return multiple values\n",
    "def func():\n",
    "    name = \"kim\"\n",
    "    year = 2024\n",
    "    return name, year #tuple\n",
    "\n",
    "a, b = func() #assign returned tuple\n",
    "print(a)\n",
    "print(b)"
   ]
  },
  {
   "cell_type": "code",
   "execution_count": null,
   "metadata": {
    "id": "NTqnFXDbhnuz"
   },
   "outputs": [],
   "source": [
    "t = [(0, 1), (2, 3)]\n",
    "for (a, b) in t:\n",
    "  print(a + b)"
   ]
  },
  {
   "cell_type": "markdown",
   "metadata": {
    "id": "8ulSFIyvdYI0"
   },
   "source": [
    "####2-4. Function"
   ]
  },
  {
   "cell_type": "markdown",
   "metadata": {
    "id": "H_50cEH3hPL9"
   },
   "source": [
    ">Statements"
   ]
  },
  {
   "cell_type": "code",
   "execution_count": null,
   "metadata": {
    "id": "U3MejYTOhMBv"
   },
   "outputs": [],
   "source": [
    "x = 2\n",
    "if x == 2:\n",
    "  pass #do nothing\n",
    "else:\n",
    "  print(\"wrong number\")"
   ]
  },
  {
   "cell_type": "code",
   "execution_count": null,
   "metadata": {
    "id": "dLKU6ASvhjBi"
   },
   "outputs": [],
   "source": [
    "j = 1\n",
    "while j <= 5:\n",
    "  print(j)\n",
    "  j += 1\n",
    "else:         #execute after while loop finished\n",
    "  print(\"value reached: %d\" %j)"
   ]
  },
  {
   "cell_type": "markdown",
   "metadata": {
    "id": "A0ywC7GlhQyr"
   },
   "source": [
    ">Built-in Function"
   ]
  },
  {
   "cell_type": "code",
   "execution_count": null,
   "metadata": {
    "id": "6ob3IoXohwBv"
   },
   "outputs": [],
   "source": [
    "t = ['a', 'b', 'c', 'd', 'e']\n",
    "for i, j in enumerate(t):             #generates a tuple with index and value\n",
    "  print(f\"value at index {i} is {j}\") #string format"
   ]
  },
  {
   "cell_type": "code",
   "execution_count": null,
   "metadata": {
    "id": "FUcnO4N6hyx-"
   },
   "outputs": [],
   "source": [
    "n = ['Paul', 'Charles', 'Minji']\n",
    "a = [25, 30, 29]\n",
    "\n",
    "p = zip(n, a)   #to combine iterables into a single iterable, returns tuple\n",
    "\n",
    "for i, j in p:\n",
    "  print(f\"{i} is {j} years old\")"
   ]
  },
  {
   "cell_type": "code",
   "execution_count": null,
   "metadata": {
    "id": "9L2Sl-1sjSVb"
   },
   "outputs": [],
   "source": [
    "numlist = [1, 2, 3, 4, 5]\n",
    "for i in reversed(numlist):\n",
    "  print(i)"
   ]
  },
  {
   "cell_type": "code",
   "execution_count": null,
   "metadata": {
    "id": "zLylCanWjn1W"
   },
   "outputs": [],
   "source": [
    "#sorted(iterable, ..., key=None, reverse=False)\n",
    "s = [1, 9, 7, 3, 5]\n",
    "s = sorted(s, reverse=True) #.sort() can be used only in list, also does not return value\n",
    "s"
   ]
  },
  {
   "cell_type": "code",
   "execution_count": null,
   "metadata": {
    "id": "vaxtl6bdjWNX"
   },
   "outputs": [],
   "source": [
    "s = 2\n",
    "e = 10\n",
    "for i in range(s, e, 2): #range(start, end, step)\n",
    "  print(i)"
   ]
  },
  {
   "cell_type": "code",
   "execution_count": null,
   "metadata": {
    "id": "gmiooDyekKL6"
   },
   "outputs": [],
   "source": [
    "# filter(function, iterable)\n",
    "def is_even(num):\n",
    "  return num % 2 == 0\n",
    "\n",
    "numlist = [1, 2, 3, 4, 5, 6, 7, 8, 9, 10]\n",
    "print(numlist)\n",
    "\n",
    "print(list(filter(is_even, numlist)))\n",
    "for n in filter(is_even, numlist):\n",
    "  print(n)"
   ]
  },
  {
   "cell_type": "code",
   "execution_count": null,
   "metadata": {
    "id": "GE5VR5lalu9h"
   },
   "outputs": [],
   "source": [
    "print(all([True, False, True])) #all(iterable)\n",
    "print(any([True, False, True]))"
   ]
  },
  {
   "cell_type": "code",
   "execution_count": null,
   "metadata": {
    "id": "aBW8i2G2l7t7"
   },
   "outputs": [],
   "source": [
    "print(max([1, 2, 3])) #max(iterable, ...)\n",
    "print(min([1, 2, 3]))"
   ]
  },
  {
   "cell_type": "code",
   "execution_count": null,
   "metadata": {
    "id": "-YhklT2cl9tu"
   },
   "outputs": [],
   "source": [
    "#pow(base, exp, ...)\n",
    "print(pow(2, 4))"
   ]
  },
  {
   "cell_type": "code",
   "execution_count": null,
   "metadata": {
    "id": "xihNkNJ2lvVD"
   },
   "outputs": [],
   "source": [
    "#map(function, iterable)\n",
    "def two_times(x):\n",
    "  return x*2\n",
    "\n",
    "list(map(two_times, [1, 2, 3, 4]))"
   ]
  },
  {
   "cell_type": "markdown",
   "metadata": {
    "id": "Eqg5ETxzkK0Z"
   },
   "source": [
    ">Lamda Function"
   ]
  },
  {
   "cell_type": "code",
   "execution_count": null,
   "metadata": {
    "id": "Jf60HWjFdbC1"
   },
   "outputs": [],
   "source": [
    "y = lambda x : x // 2\n",
    "print(y(13))\n",
    "print((lambda x , y : x + y)(10, 20))"
   ]
  },
  {
   "cell_type": "code",
   "execution_count": null,
   "metadata": {
    "id": "muNJHAG0nrMu"
   },
   "outputs": [],
   "source": [
    "#with filter() function\n",
    "list(filter(lambda x: x % 2 == 0, [1, 2, 3, 4])) #cascade functions"
   ]
  },
  {
   "cell_type": "code",
   "execution_count": null,
   "metadata": {
    "id": "wwlSzOvhnxpD"
   },
   "outputs": [],
   "source": [
    "#with map() function\n",
    "list(map(lambda x: x**2, [1, 2, 3, 4]))"
   ]
  },
  {
   "cell_type": "code",
   "execution_count": null,
   "metadata": {
    "id": "NReJw5MOnyFX"
   },
   "outputs": [],
   "source": [
    "#using lambda to create factorial without recursion\n",
    "def factorial(n, f = lambda x : x): #f is default value argument\n",
    "  k = 1\n",
    "  for i in range(f(n)):\n",
    "    k = k * (i + 1)\n",
    "  return k\n",
    "\n",
    "factorial(5)"
   ]
  },
  {
   "cell_type": "markdown",
   "metadata": {
    "id": "wYBMhZUloKsK"
   },
   "source": [
    ">Arguments"
   ]
  },
  {
   "cell_type": "code",
   "execution_count": null,
   "metadata": {
    "id": "OHRUYwyhoITv"
   },
   "outputs": [],
   "source": [
    "#default argument value designation\n",
    "def func2(arg1, arg2 = \"apple\"):\n",
    "  print(\"I like %s and %s.\" %(arg1, arg2))\n",
    "\n",
    "func2(\"pizza\")\n",
    "func2(\"pizza\", \"banana\")\n",
    "\n",
    "# SyntaxError: non-default argument follows default argument\n",
    "# def func3(arg1 = \"apple\", arg2):\n",
    "#   print(\"I like %s and %s.\" %(arg1, arg2))"
   ]
  },
  {
   "cell_type": "code",
   "execution_count": null,
   "metadata": {
    "id": "Qkhb9xPToREM"
   },
   "outputs": [],
   "source": [
    "#multiple arguments\n",
    "def func3(*args):\n",
    "  print(args[0]) #among arguments, print the first one using index\n",
    "\n",
    "func3(\"arg1\", \"arg2\", \"arg3\")"
   ]
  },
  {
   "cell_type": "code",
   "execution_count": null,
   "metadata": {
    "id": "c3UfXDEAoTFv"
   },
   "outputs": [],
   "source": [
    "#multiple keyword arguments\n",
    "def func4(**kwargs):\n",
    "  print(kwargs)\n",
    "\n",
    "func4(Lee = 201) #sending arguments with Key = Value syntax\n",
    "func4(Kim = 301, Park = 101)"
   ]
  },
  {
   "cell_type": "markdown",
   "metadata": {
    "id": "pPSsDHXAnL26"
   },
   "source": [
    "####2-5. Module"
   ]
  },
  {
   "cell_type": "markdown",
   "metadata": {
    "id": "GSIc5qFnmRz9"
   },
   "source": [
    ">Math"
   ]
  },
  {
   "cell_type": "code",
   "execution_count": null,
   "metadata": {
    "id": "CClePUeAmRKC"
   },
   "outputs": [],
   "source": [
    "import math\n",
    "print(math.ceil(2.3))\n",
    "print(math.floor(2.3))"
   ]
  },
  {
   "cell_type": "code",
   "execution_count": null,
   "metadata": {
    "id": "fWdCzoLKmyqI"
   },
   "outputs": [],
   "source": [
    "print(math.gcd(4, 12)) #the greatest common divisor\n",
    "print(math.lcm(4, 12)) #the least common multiple"
   ]
  },
  {
   "cell_type": "code",
   "execution_count": null,
   "metadata": {
    "id": "rXXDJX5Zm3l7"
   },
   "outputs": [],
   "source": [
    "#the product of all the elements in the input iterable. default start value for the product is 1.\n",
    "print(math.prod([1, 2, 3, 4]))"
   ]
  },
  {
   "cell_type": "code",
   "execution_count": null,
   "metadata": {
    "id": "uMCsFARYm7W6"
   },
   "outputs": [],
   "source": [
    "print(math.log2(8))\n",
    "print(math.log10(10))"
   ]
  },
  {
   "cell_type": "code",
   "execution_count": null,
   "metadata": {
    "id": "-tsOaqAbm_nt"
   },
   "outputs": [],
   "source": [
    "print(math.pi)\n",
    "print(math.e)"
   ]
  },
  {
   "cell_type": "code",
   "execution_count": null,
   "metadata": {
    "id": "yHzYaKaAnDcH"
   },
   "outputs": [],
   "source": [
    "from math import pi as p\n",
    "print(p)"
   ]
  },
  {
   "cell_type": "markdown",
   "metadata": {
    "id": "H4a9zOpcnTNR"
   },
   "source": [
    ">Numpy"
   ]
  },
  {
   "cell_type": "code",
   "execution_count": null,
   "metadata": {
    "id": "Vj8BLs-2z5k4"
   },
   "outputs": [],
   "source": [
    "import numpy as np"
   ]
  },
  {
   "cell_type": "code",
   "execution_count": null,
   "metadata": {
    "id": "vsyhkZ4-nU2s"
   },
   "outputs": [],
   "source": [
    "np.arange(0, 1, .2)"
   ]
  },
  {
   "cell_type": "code",
   "execution_count": null,
   "metadata": {
    "id": "L2rjihqmnfZ7"
   },
   "outputs": [],
   "source": [
    "np.linspace(0, 1, 11)"
   ]
  },
  {
   "cell_type": "markdown",
   "metadata": {
    "id": "-nTi7VS7ypwy"
   },
   "source": [
    ">Networkx"
   ]
  },
  {
   "cell_type": "code",
   "execution_count": null,
   "metadata": {
    "id": "sGsbwKZwyKz4"
   },
   "outputs": [],
   "source": [
    "'''Graph'''\n",
    "#simple way to define a graph using dictionary\n",
    "graph = {\n",
    "    '5' : ['3', '7'],\n",
    "    '3' : ['2', '4'],\n",
    "    '7' : ['8']\n",
    "}\n",
    "import networkx as nx\n",
    "#Package for the creation, manipulation, and study of the structure, dynamics, and functions of complex networks."
   ]
  },
  {
   "cell_type": "code",
   "execution_count": null,
   "metadata": {
    "id": "ur7EW4p8yuvF"
   },
   "outputs": [],
   "source": [
    "class GraphVisualization: #creating graph visualization class, using nx\n",
    "  def __init__(self):\n",
    "    self.visual = [] #empty list\n",
    "  def addEdge(self, a, b):\n",
    "    temp = [a, b]\n",
    "    self.visual.append(temp) #describe edge in list format\n",
    "  def visualize(self):\n",
    "    G = nx.Graph() #Create an empty graph with no nodes and no edges.\n",
    "    G.add_edges_from(self.visual) #add edge\n",
    "    nx.draw_networkx(G) #visualize Graph\n",
    "    plt.show()"
   ]
  },
  {
   "cell_type": "code",
   "execution_count": null,
   "metadata": {
    "id": "P0XaS9oHyyIX"
   },
   "outputs": [],
   "source": [
    "#indirective graph\n",
    "G1 = GraphVisualization() #create class object\n",
    "G1.addEdge('u', 'v')\n",
    "G1.addEdge('v', 'w')\n",
    "G1.addEdge('w', 'u')\n",
    "G1.visualize()"
   ]
  },
  {
   "cell_type": "code",
   "execution_count": null,
   "metadata": {
    "id": "BHlGtttWy0GY"
   },
   "outputs": [],
   "source": [
    "#weighted graph\n",
    "G2 = nx.Graph()\n",
    "i = 1\n",
    "G2.add_node(i, pos=(i, i)) #add node\n",
    "G2.add_node(2, pos=(2, 1))\n",
    "G2.add_node(3, pos=(1, 0))\n",
    "\n",
    "G2.add_edge(1, 2, weight=5) #add edge with weights\n",
    "G2.add_edge(1, 3, weight=4)\n",
    "G2.add_edge(2, 3, weight=3)"
   ]
  },
  {
   "cell_type": "code",
   "execution_count": null,
   "metadata": {
    "id": "aK6GpuMQy47C"
   },
   "outputs": [],
   "source": [
    "pos = nx.get_node_attributes(G2, 'pos')\n",
    "nx.draw(G2, pos) #draw nodes\n",
    "\n",
    "labels = nx.get_edge_attributes(G2, 'weight')\n",
    "nx.draw_networkx_edge_labels(G2, pos, edge_labels=labels) #draw labels (weights)"
   ]
  },
  {
   "cell_type": "code",
   "execution_count": null,
   "metadata": {
    "id": "b7OlSBdvy60s"
   },
   "outputs": [],
   "source": [
    "nx.is_connected(G2) #checks for whether graph is connected"
   ]
  },
  {
   "cell_type": "code",
   "execution_count": null,
   "metadata": {
    "id": "qKBxxt2py8iI"
   },
   "outputs": [],
   "source": [
    "#directive graph\n",
    "G3 = nx.DiGraph() #create directive graph\n",
    "G3.add_edges_from([('u', 'u'), ('u', 'v'), ('v', 'w'), ('w', 'u')]) #loop is formed in u to u\n",
    "nx.draw_networkx(G3)"
   ]
  },
  {
   "cell_type": "code",
   "execution_count": null,
   "metadata": {
    "id": "6d83KE2Iy_Xv"
   },
   "outputs": [],
   "source": [
    "#shortest path\n",
    "G4 = nx.DiGraph()\n",
    "G4.add_edges_from([('a', 'b'), ('b', 'd'), ('b', 'f'),\n",
    " ('b', 'g'), ('b', 'c'), ('c', 'g'),\n",
    "  ('g', 'e'), ('d', 'f'), ('d', 'h'), ('g', 'h')])\n",
    "nx.draw_networkx(G4)"
   ]
  },
  {
   "cell_type": "code",
   "execution_count": null,
   "metadata": {
    "id": "_-z9j7Q5zBD-"
   },
   "outputs": [],
   "source": [
    "nx.dijkstra_path(G4, 'a', 'h') #shortest path (start, end)"
   ]
  },
  {
   "cell_type": "code",
   "execution_count": null,
   "metadata": {
    "id": "DFiYnmnOzFHJ"
   },
   "outputs": [],
   "source": [
    "pos = nx.spring_layout(G5)\n",
    "nx.draw_networkx(G5, pos, with_labels=True, connectionstyle='arc3, rad=0.2')\n",
    "#connectionstyle: arc form, rad curvature"
   ]
  },
  {
   "cell_type": "code",
   "execution_count": null,
   "metadata": {
    "id": "b_-s6hUozIXE"
   },
   "outputs": [],
   "source": [
    "'''Tree'''\n",
    "from networkx.drawing.nx_pydot import graphviz_layout #Create node positions using Pydot and Graphviz.\n",
    "T1 = nx.Graph()\n",
    "T1.add_edges_from([(1, 2), (1, 3), (1, 4), (2, 5), (2, 6), (3, 7), (4, 8)])\n",
    "\n",
    "pos = graphviz_layout(T1, prog='dot') #node positions\n",
    "nx.draw(T1, pos, with_labels=True)"
   ]
  },
  {
   "cell_type": "code",
   "execution_count": null,
   "metadata": {
    "id": "mQZStuilzOn3"
   },
   "outputs": [],
   "source": [
    "nx.is_tree(T1) #check whether graph is tree"
   ]
  },
  {
   "cell_type": "markdown",
   "metadata": {
    "id": "JbNd8Qr6p79M"
   },
   "source": [
    "####2-6. Class"
   ]
  },
  {
   "cell_type": "markdown",
   "metadata": {
    "id": "LKFtvzD-qXju"
   },
   "source": [
    ">Class"
   ]
  },
  {
   "cell_type": "code",
   "execution_count": null,
   "metadata": {
    "id": "wyx2evKqp-mz"
   },
   "outputs": [],
   "source": [
    "#a basic class for a bank account\n",
    "class BankAccount:\n",
    " def __init__(self, account_number, balance): #class constructor\n",
    "  self.account_number = account_number\n",
    "  self.balance = balance\n",
    "\n",
    " def deposit(self, amount): #class method\n",
    "  self.balance += amount\n",
    "  print(\"Deposit successful. New balance is:\", self.balance)\n",
    "\n",
    " def withdraw(self, amount):\n",
    "  if amount > self.balance: #withdrawal condition\n",
    "   print(\"Withdrawal unsuccessful insufficient funds!\")\n",
    "  else:\n",
    "   self.balance -= amount\n",
    "   print(\"Withdrawal successful. New balance is:\", self.balance)"
   ]
  },
  {
   "cell_type": "code",
   "execution_count": null,
   "metadata": {
    "id": "oF9hLEEwqGhZ"
   },
   "outputs": [],
   "source": [
    "account1 = BankAccount(\"woori1234\", 100000)\n",
    "print(account1.account_number)\n",
    "print(account1.balance)"
   ]
  },
  {
   "cell_type": "markdown",
   "metadata": {
    "id": "OtuCIQ6DqUwq"
   },
   "source": [
    ">Inheritance"
   ]
  },
  {
   "cell_type": "code",
   "execution_count": null,
   "metadata": {
    "id": "qOv76fZQqUJf"
   },
   "outputs": [],
   "source": [
    "# define a superclass\n",
    "class super_class:\n",
    "  pass # attributes and method definition\n",
    "\n",
    "# inheritance\n",
    "class sub_class(super_class):\n",
    "  pass\n",
    "  # attributes and method of super_class\n",
    "  # attributes and method of sub_class"
   ]
  },
  {
   "cell_type": "markdown",
   "metadata": {
    "id": "tnCBGn7Eqiu4"
   },
   "source": [
    "####2-7. Library"
   ]
  },
  {
   "cell_type": "markdown",
   "metadata": {
    "id": "HIG1OM9ovkhq"
   },
   "source": [
    ">Pandas"
   ]
  },
  {
   "cell_type": "code",
   "execution_count": null,
   "metadata": {
    "id": "xD2QEvlzqksk"
   },
   "outputs": [],
   "source": [
    "data = {'Name' : ['Lee', 'Park', 'Choi'],\n",
    "        'Age' : [21, 22, 21],\n",
    "        'City' : ['Seoul', 'Busan', 'Incheon']}"
   ]
  },
  {
   "cell_type": "code",
   "execution_count": null,
   "metadata": {
    "id": "XbcmUUaXvpR4"
   },
   "outputs": [],
   "source": [
    "df1 = pd.DataFrame(data)\n",
    "display(df1)"
   ]
  },
  {
   "cell_type": "code",
   "execution_count": null,
   "metadata": {
    "id": "jSo1z7vjvq5p"
   },
   "outputs": [],
   "source": [
    "df2 = pd.Series([1, 2, 3, 4, 8])\n",
    "display(df2)"
   ]
  },
  {
   "cell_type": "code",
   "execution_count": null,
   "metadata": {
    "id": "hOOMEEF-zfVq"
   },
   "outputs": [],
   "source": [
    "df1 = pd.read_csv('Testdata.csv')\n",
    "print(df1.head()) #show top 5 rows\n",
    "print(df1.tail()) #show bottom 5 rows"
   ]
  },
  {
   "cell_type": "code",
   "execution_count": null,
   "metadata": {
    "id": "RD_dkL10wCe5"
   },
   "outputs": [],
   "source": [
    "df1.info() #show info: index, dtype, columns, non-null values, memory usage.\n",
    "df1.describe() #method(): summary statistics for numerical columns"
   ]
  },
  {
   "cell_type": "code",
   "execution_count": null,
   "metadata": {
    "id": "xcas-cAawIJA"
   },
   "outputs": [],
   "source": [
    "df1.shape #return a tuple representing the dimensionality of DataFrame\n",
    "df1_tmp = df1.drop_duplicates() #return DataFrame with duplicate rows removed"
   ]
  },
  {
   "cell_type": "code",
   "execution_count": null,
   "metadata": {
    "id": "eyerilqMwxxm"
   },
   "outputs": [],
   "source": [
    "#drop null values: remove missing values. NaN: not a number.\n",
    "df1 = df1.dropna()"
   ]
  },
  {
   "cell_type": "code",
   "execution_count": null,
   "metadata": {
    "id": "Eg3zOVudw0Dj"
   },
   "outputs": [],
   "source": [
    "#check for null values: detect missing values.\n",
    "df1.isnull()\n",
    "#if there is no null values in each column, sum of null values is 0, in each column\n",
    "df1.isnull().sum()"
   ]
  },
  {
   "cell_type": "code",
   "execution_count": null,
   "metadata": {
    "id": "f33CJD0_wJfq"
   },
   "outputs": [],
   "source": [
    "df1.columns #attribute: show column labels of DataFrame"
   ]
  },
  {
   "cell_type": "code",
   "execution_count": null,
   "metadata": {
    "id": "H8AZ1o1FwRQY"
   },
   "outputs": [],
   "source": [
    "df2 = pd.read_json('iris.json')\n",
    "pet_lens = df2['petalLength'] #extracting data, in specific column\n",
    "pet_lens_w = df2[['petalLength', 'petalWidth']] #extracting data, in multiple specific columns"
   ]
  },
  {
   "cell_type": "code",
   "execution_count": null,
   "metadata": {
    "id": "LOOysXYRwcGd"
   },
   "outputs": [],
   "source": [
    "#filter: subset the dataframe rows according to the specified index labels. (specific column, specific value)\n",
    "pet_len = df2[df2['petalLength'] == 1.4]"
   ]
  },
  {
   "cell_type": "code",
   "execution_count": null,
   "metadata": {
    "id": "LLlzJhL1weVm"
   },
   "outputs": [],
   "source": [
    "#integer-location based indexing for selection by position (row 0,1,2,3, col 1,2,3 slice)\n",
    "df2_subset = df2.iloc[0:4, 1:4]"
   ]
  },
  {
   "cell_type": "code",
   "execution_count": null,
   "metadata": {
    "id": "TCwL1HO1wha3"
   },
   "outputs": [],
   "source": [
    "sorted_df = df2.sort_values('petalLength') #sort by the values along specific column\n",
    "#group by (column), mean of [column]: compute mean of each groups, excluding missing values.\n",
    "grouped_df = df2.groupby('species')['petalLength'].mean()"
   ]
  },
  {
   "cell_type": "code",
   "execution_count": null,
   "metadata": {
    "id": "zPBru2Cqwm3A"
   },
   "outputs": [],
   "source": [
    "#apply() a function along an axis of the DataFrame\n",
    "df2['petalWidth'] = df2['petalWidth'].apply(lambda x: x+1) #increase values of specific column using lambda function"
   ]
  },
  {
   "cell_type": "code",
   "execution_count": null,
   "metadata": {
    "id": "vfJ1PnuIxcT1"
   },
   "outputs": [],
   "source": [
    "#Fill Null/NaN values using the specified method: null values in column[petalLength] will be filled with 0, instead of nan\n",
    "df2['petalLength'] = df2['petalLength'].fillna(0)"
   ]
  },
  {
   "cell_type": "code",
   "execution_count": null,
   "metadata": {
    "id": "xDhyQjypxmo1"
   },
   "outputs": [],
   "source": [
    "#replace values given in to_replace, with value\n",
    "df2['species'] = df2['species'].replace('setosa', 'st')"
   ]
  },
  {
   "cell_type": "code",
   "execution_count": null,
   "metadata": {
    "id": "bPcOzrLjxHkR"
   },
   "outputs": [],
   "source": [
    "#concatenate pandas objects along a particular axis\n",
    "new_row = {'sepalLength' : 8.1}\n",
    "#other columns values will be NaN\n",
    "df2 = pd.concat([df2, pd.DataFrame([new_row])], ignore_index = True)\n",
    "#ignore_index: If True, do not use the index values along the concatenation axis. The resulting axis will be just labeled 0, ..., n - 1."
   ]
  },
  {
   "cell_type": "code",
   "execution_count": null,
   "metadata": {
    "id": "jBkLnUWYxNsy"
   },
   "outputs": [],
   "source": [
    "target_column = 'petalLength'\n",
    "#get_loc (get integer location) in columns\n",
    "target_column_index = df2.columns.get_loc(target_column)\n",
    "print(target_column_index)\n",
    "\n",
    "new_column_name = 'Quality'\n",
    "#tolist() returns a list of the values, in this case columns list\n",
    "cols = df2.columns.tolist()\n",
    "#insert column name into DataFrame (columns list) at specified location.\n",
    "cols.insert(target_column_index + 1, new_column_name)\n",
    "\n",
    "#form DataFrame in new index with optional filling logic; columns = new labels for the columns.\n",
    "df2 = df2.reindex(columns = cols)\n",
    "\n",
    "#add values to newly added column 'Quality' using apply() with lambda function\n",
    "df2['Quality'] = df2['petalLength'].apply(lambda x: 'High' if x >= 5 else 'Basic') #condition regarding 'petalLength' value"
   ]
  },
  {
   "cell_type": "markdown",
   "metadata": {
    "id": "6RUutgHCzl2J"
   },
   "source": [
    ">Scipy"
   ]
  },
  {
   "cell_type": "code",
   "execution_count": null,
   "metadata": {
    "id": "7GZTxM-mzn74"
   },
   "outputs": [],
   "source": [
    "[1, 0, 2, 0, 0, 3, 0] #sparse data example\n",
    "#sparse data: most of item values are zero <> dense data: most of item values are non-zero\n",
    "from scipy.sparse import csr_matrix #Compressed Sparse Row matrix\n",
    "arr = np.array([0, 0, 0, 0, 0, 1, 1, 0, 2])"
   ]
  },
  {
   "cell_type": "code",
   "execution_count": null,
   "metadata": {
    "id": "mJAbHruOzsXx"
   },
   "outputs": [],
   "source": [
    "print(csr_matrix(arr)) #location of non-values (row, col)\n",
    "print(csr_matrix(arr).data) #non-zero data values\n",
    "print(csr_matrix(arr).count_nonzero()) #number of non zero values"
   ]
  },
  {
   "cell_type": "code",
   "execution_count": null,
   "metadata": {
    "id": "zz9Mzu4o0M8d"
   },
   "outputs": [],
   "source": [
    "mat.eliminate_zeros() #removes zero values"
   ]
  },
  {
   "cell_type": "code",
   "execution_count": null,
   "metadata": {
    "id": "Ksi1ScMg0QJV"
   },
   "outputs": [],
   "source": [
    "from scipy.sparse.csgraph import connected_components #Analyze the connected components of a sparse graph"
   ]
  },
  {
   "cell_type": "code",
   "execution_count": null,
   "metadata": {
    "id": "4BTEZrPS0RAf"
   },
   "outputs": [],
   "source": [
    "adjacency_matrix = csr_matrix([[0, 1, 0, 0], [1, 0, 1, 0], [0, 1, 0, 0], [0, 0, 0, 0]])\n",
    "'''\n",
    "Node 0 is connected to node 1.\n",
    "Node 1 is connected to nodes 0 and 2.\n",
    "Node 2 is connected to node 1.\n",
    "Node 3 is isolated (not connected to any other node).\n",
    "'''\n",
    "num_components, labels = connected_components(adjacency_matrix)"
   ]
  },
  {
   "cell_type": "code",
   "execution_count": null,
   "metadata": {
    "id": "5GWlPlQ-0U7T"
   },
   "outputs": [],
   "source": [
    "print(\"Number of connected components:\", num_components)\n",
    "print(\"Labels of components for each node:\", labels)\n",
    "\n",
    "#Nodes 0, 1, and 2 are part of the same connected component (labeled 0).\n",
    "#Node 3 is part of a different connected component (labeled 1)."
   ]
  },
  {
   "cell_type": "code",
   "execution_count": null,
   "metadata": {
    "id": "LWaPLKNz0VQX"
   },
   "outputs": [],
   "source": [
    "for component in range(num_components):\n",
    "  component_nodes = [node for node, label in enumerate(labels) if label == component] #creates a list per label\n",
    "  print('Connected component', component_nodes)\n",
    "#node 3 is not connected with 0, 1, 2"
   ]
  },
  {
   "cell_type": "markdown",
   "metadata": {
    "id": "KklRgTOWv45b"
   },
   "source": [
    ">Matplotlib"
   ]
  },
  {
   "cell_type": "code",
   "execution_count": null,
   "metadata": {
    "id": "agDtwzRk0X9D"
   },
   "outputs": [],
   "source": [
    "import matplotlib.pyplot as plt\n",
    "x = np.linspace(-5, 5, 100)\n",
    "y = np.sin(x)\n",
    "plt.xlabel('x')\n",
    "plt.ylabel('y')\n",
    "plt.title('Sine(x)')\n",
    "\n",
    "plt.plot(x, y)\n",
    "plt.show()"
   ]
  },
  {
   "cell_type": "code",
   "execution_count": null,
   "metadata": {
    "id": "vp5JuFvN2JHm"
   },
   "outputs": [],
   "source": [
    "fig, (ax1, ax2) = plt.subplots(1, 2, figsize=(10, 5)) #Create a figure and a set of subplots. (nrows, ncols, )\n",
    "\n",
    "ax1.plot(x, y, color='blue', label='Sine(x)')\n",
    "ax1.set_xlabel('x')\n",
    "ax1.set_ylabel('y')\n",
    "ax1.set_title('Sine(x)')\n",
    "\n",
    "ax2.plot(x, z, color='red', label='Cosine(x)')\n",
    "ax2.set_xlabel('x')\n",
    "ax2.set_ylabel('z')\n",
    "ax2.set_title('Cosine(x)')\n",
    "\n",
    "plt.tight_layout() #Adjust the padding between and around subplots."
   ]
  },
  {
   "cell_type": "code",
   "execution_count": null,
   "metadata": {
    "id": "Ezo31F9O2NLH"
   },
   "outputs": [],
   "source": [
    "df = pd.read_csv('students.csv')\n",
    "print(df.head())\n",
    "\n",
    "#create bar chart style plot from pandas dataframe\n",
    "plt.bar(df['name'], df['physics'], label='Physics score')\n",
    "plt.bar(df['name'], df['maths'], label='Maths score')\n",
    "\n",
    "plt.xlabel('Student Name')\n",
    "plt.ylabel('Physics and Maths')\n",
    "plt.title('Physics vs. Maths')\n",
    "\n",
    "plt.legend()"
   ]
  },
  {
   "cell_type": "code",
   "execution_count": null,
   "metadata": {
    "id": "XT7if-n02jbG"
   },
   "outputs": [],
   "source": [
    "#table (formatting & coloring) using matplotlib\n",
    "fig, ax = plt.subplots()\n",
    "ax.axis('off')\n",
    "table = ax.table(cellText= data, cellLoc= 'center', loc= 'center', cellColours= [['lightgray']*3]+[['white']*3]*3, bbox= [0,0,1,1])\n",
    "#bbox /0, 0 the lower-left corner /1, 1 the upper-right corner of the axes : table fill the entire area of the axes\n",
    "\n",
    "table.auto_set_font_size(False)\n",
    "table.set_fontsize(12)\n",
    "table.scale(1, 1.5)"
   ]
  },
  {
   "cell_type": "code",
   "execution_count": null,
   "metadata": {
    "id": "CJGwjQae2p_r"
   },
   "outputs": [],
   "source": [
    "#scatter plot\n",
    "x1 = [2, 3, 4]\n",
    "y1 = [5, 5, 5]\n",
    "\n",
    "x2 = [1, 2, 3, 4, 5]\n",
    "y2 = [2, 3, 2, 3, 4]\n",
    "y3 = [6, 8, 7, 8, 7]\n",
    "\n",
    "plt.scatter(x1, y1)\n",
    "plt.scatter(x2, y2, marker= 'v', color= 'red')\n",
    "plt.scatter(x2, y3, marker= '^', color= 'm')"
   ]
  },
  {
   "cell_type": "code",
   "execution_count": null,
   "metadata": {
    "id": "OvvSAt912s_g"
   },
   "outputs": [],
   "source": [
    "#3d bar plot\n",
    "fig = plt.figure()\n",
    "\n",
    "ax = fig.add_subplot(111, projection = '3d') #Create 3d plot space\n",
    "\n",
    "x = [1, 2, 3, 4, 5, 6, 7, 8, 9, 10]\n",
    "y = np.random.randint(10, size= 10)\n",
    "z = np.zeros(10)\n",
    "\n",
    "dx = np.ones(10)\n",
    "dy = np.ones(10)\n",
    "dz = [1, 2, 3, 4, 5, 6, 7, 8, 9, 10]\n",
    "\n",
    "ax.bar3d(x, y, z, dx, dy, dz, color= 'g') #Create 3d bar plot\n",
    "\n",
    "plt.tight_layout()"
   ]
  }
 ],
 "metadata": {
  "colab": {
   "collapsed_sections": [
    "zVvuDueROrpx",
    "ceTWM_gwO0Z0",
    "d8Azi4pWZ-X8",
    "wkj2YFEwc3U9",
    "mJ0NhcMxc8mq",
    "rZ6hEcqzeLM6",
    "8ulSFIyvdYI0",
    "pPSsDHXAnL26",
    "tnCBGn7Eqiu4",
    "Cke67LC-Oxic"
   ],
   "provenance": []
  },
  "kernelspec": {
   "display_name": "Python 3 (ipykernel)",
   "language": "python",
   "name": "python3"
  },
  "language_info": {
   "name": "python"
  }
 },
 "nbformat": 4,
 "nbformat_minor": 4
}
