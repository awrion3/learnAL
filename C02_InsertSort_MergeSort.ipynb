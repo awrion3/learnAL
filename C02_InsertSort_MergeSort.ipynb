{
 "cells": [
  {
   "cell_type": "markdown",
   "id": "b639be08-8411-4760-86dc-d3325e4f624e",
   "metadata": {},
   "source": [
    "#Q01"
   ]
  },
  {
   "cell_type": "code",
   "execution_count": 1,
   "id": "e1ac5f9b-7d6a-4e6b-a9b0-80b3876fbfec",
   "metadata": {},
   "outputs": [
    {
     "name": "stdout",
     "output_type": "stream",
     "text": [
      "[0, 1, 2, 3, 4, 5, 6, 7, 8, 9]\n"
     ]
    }
   ],
   "source": [
    "#A.\n",
    "def insertSort(arr):\n",
    "    if len(arr) > 1:\n",
    "        for i in range(1, len(arr)): #0-origin, considers range\n",
    "            key = arr[i]\n",
    "            j = i - 1\n",
    "            while j >= 0 and key < arr[j]: #0-origin\n",
    "                arr[j + 1] = arr[j]\n",
    "                j -= 1\n",
    "            arr[j + 1] = key\n",
    "    return arr\n",
    "    \n",
    "A = [5, 2, 7, 6, 0, 8, 3, 4, 9, 1]\n",
    "A = insertSort(A)\n",
    "print(A)"
   ]
  },
  {
   "cell_type": "code",
   "execution_count": 3,
   "id": "967911f9-dec0-44c7-b2b8-8cf73273c9c2",
   "metadata": {},
   "outputs": [
    {
     "name": "stdout",
     "output_type": "stream",
     "text": [
      "[9, 8, 7, 6, 5, 4, 3, 2, 1, 0]\n"
     ]
    }
   ],
   "source": [
    "#B.\n",
    "def insertSortR(arr):\n",
    "    if len(arr) > 1:\n",
    "        for i in range(1, len(arr)):\n",
    "            key = arr[i]\n",
    "            j = i - 1\n",
    "            while j >= 0 and key > arr[j]: #sort in descending order\n",
    "                arr[j + 1] = arr[j]\n",
    "                j -= 1\n",
    "            arr[j + 1] = key\n",
    "    return arr\n",
    "\n",
    "B = [5, 2, 7, 6, 0, 8, 3, 4, 9, 1]\n",
    "B = insertSortR(B)\n",
    "print(B)"
   ]
  },
  {
   "cell_type": "code",
   "execution_count": 3,
   "id": "1597ec24-7790-461a-8c5c-730dabe1444b",
   "metadata": {},
   "outputs": [],
   "source": [
    "#C.\n",
    "import numpy as np\n",
    "from numpy import random\n",
    "import time"
   ]
  },
  {
   "cell_type": "code",
   "execution_count": 11,
   "id": "577a0026-8380-4bc0-9054-67867c340424",
   "metadata": {},
   "outputs": [
    {
     "name": "stdout",
     "output_type": "stream",
     "text": [
      "Sorted Array Length:\n",
      "100\n",
      "Insert Sorting Time:\n",
      "0.0009992122650146484\n",
      "Sorted Array Length:\n",
      "1000\n",
      "Insert Sorting Time:\n",
      "0.0422358512878418\n",
      "Sorted Array Length:\n",
      "10000\n",
      "Insert Sorting Time:\n",
      "4.202818155288696\n"
     ]
    }
   ],
   "source": [
    "A = np.random.randint(100, size=100) #creates size 100 array with random vals < 100\n",
    "B = np.random.randint(1000, size=1000)\n",
    "C = np.random.randint(10000, size=10000)\n",
    "\n",
    "def timeInsertSort(arr):\n",
    "    print(\"Sorted Array Length:\")\n",
    "    print(len(arr))\n",
    "    start = time.time()\n",
    "    insertSort(arr)\n",
    "    end = time.time()\n",
    "    print(\"Insert Sorting Time:\")\n",
    "    return end - start\n",
    "\n",
    "print(timeInsertSort(A))\n",
    "print(timeInsertSort(B))\n",
    "print(timeInsertSort(C))"
   ]
  },
  {
   "cell_type": "markdown",
   "id": "0da9d43a-845e-4d82-b3f2-d783748974eb",
   "metadata": {},
   "source": [
    "#Q02"
   ]
  },
  {
   "cell_type": "code",
   "execution_count": 5,
   "id": "599b96df-15f8-4480-90ec-958ac1bd4a47",
   "metadata": {},
   "outputs": [],
   "source": [
    "#A.\n",
    "def mergeSort(arr):\n",
    "    if len(arr) > 1:\n",
    "        #dividing\n",
    "        mid = len(arr) // 2\n",
    "        L = arr[:mid]\n",
    "        R = arr[mid:]\n",
    "        mergeSort(L)\n",
    "        mergeSort(R)\n",
    "        #merging\n",
    "        i = 0\n",
    "        j = 0\n",
    "        idx = 0 #from the beginning\n",
    "        while i < len(L) and j < len(R):\n",
    "            if L[i] < R[j]:\n",
    "                arr[idx] = L[i]\n",
    "                i += 1\n",
    "            else:\n",
    "                arr[idx] = R[j]\n",
    "                j += 1\n",
    "            idx += 1\n",
    "        while i < len(L):\n",
    "            arr[idx] = L[i]\n",
    "            i += 1\n",
    "            idx += 1\n",
    "        while j < len(R):\n",
    "            arr[idx] = R[j]\n",
    "            j += 1\n",
    "            idx += 1\n",
    "    return arr"
   ]
  },
  {
   "cell_type": "code",
   "execution_count": 17,
   "id": "fb128c15-e9ff-4fc9-8eaf-859aa685b5f6",
   "metadata": {},
   "outputs": [
    {
     "name": "stdin",
     "output_type": "stream",
     "text": [
      " 9 8 7 6\n"
     ]
    },
    {
     "name": "stdout",
     "output_type": "stream",
     "text": [
      "[6, 7, 8, 9]\n"
     ]
    }
   ],
   "source": [
    "A = list(map(int, input().split()))\n",
    "A = mergeSort(A)\n",
    "print(A)"
   ]
  },
  {
   "cell_type": "code",
   "execution_count": 10,
   "id": "71ec511b-c0bc-4cac-8e35-d1e005d82e03",
   "metadata": {},
   "outputs": [
    {
     "name": "stdout",
     "output_type": "stream",
     "text": [
      "Sorted Array length:\n",
      "100\n",
      "Merge Sorting Time:\n",
      "0.0\n",
      "Sorted Array length:\n",
      "1000\n",
      "Merge Sorting Time:\n",
      "0.0030007362365722656\n",
      "Sorted Array length:\n",
      "10000\n",
      "Merge Sorting Time:\n",
      "0.03899788856506348\n"
     ]
    }
   ],
   "source": [
    "#B.\n",
    "A = np.random.randint(100, size=100) #creates size 100 array with random vals\n",
    "B = np.random.randint(1000, size=1000)\n",
    "C = np.random.randint(10000, size=10000)\n",
    "\n",
    "def timeMergeSort(arr):\n",
    "    print(\"Sorted Array length:\")\n",
    "    print(len(arr))\n",
    "    start = time.time()\n",
    "    mergeSort(arr)\n",
    "    end = time.time()\n",
    "    print(\"Merge Sorting Time:\")\n",
    "    return end - start\n",
    "\n",
    "print(timeMergeSort(A))\n",
    "print(timeMergeSort(B))\n",
    "print(timeMergeSort(C))"
   ]
  },
  {
   "cell_type": "markdown",
   "id": "52635d63-6fa3-4e6a-b3f6-a374a55bbb83",
   "metadata": {},
   "source": [
    "#Q3"
   ]
  },
  {
   "cell_type": "code",
   "execution_count": 21,
   "id": "1b7c390a-2d86-4ae7-897b-bf1e5dbcfcf8",
   "metadata": {},
   "outputs": [
    {
     "name": "stdout",
     "output_type": "stream",
     "text": [
      "[0.0, 0.017368555068969727, 1.587033748626709]\n",
      "[0.0, 0.0009999275207519531, 0.013999223709106445]\n"
     ]
    }
   ],
   "source": [
    "#A.\n",
    "def genRArrComp(sizes):\n",
    "    for i in sizes:\n",
    "        #creates size i array with random vals < 10000\n",
    "        arr_insert = [random.randint(0, 10000) for j in range(i)] #imported random\n",
    "        arr_merge = arr_insert.copy()\n",
    "    \n",
    "        start_time = time.time()\n",
    "        insertSort(arr_insert)\n",
    "        time_insert.append(time.time() - start_time)\n",
    "        \n",
    "        start_time = time.time()\n",
    "        mergeSort(arr_merge)\n",
    "        time_merge.append(time.time() - start_time)\n",
    "\n",
    "#global var\n",
    "sizes = [100, 1000, 10000]\n",
    "time_insert = []\n",
    "time_merge = []\n",
    "\n",
    "genRArrComp(sizes)\n",
    "\n",
    "print(time_insert) #insertion sort's time growth is steeper in increased sizes\n",
    "print(time_merge)"
   ]
  },
  {
   "cell_type": "code",
   "execution_count": 26,
   "id": "ff578750-4147-45eb-9577-f6d356f18e85",
   "metadata": {},
   "outputs": [
    {
     "data": {
      "image/png": "[encoded data removed]",
      "text/plain": [
       "<Figure size 640x480 with 1 Axes>"
      ]
     },
     "metadata": {},
     "output_type": "display_data"
    }
   ],
   "source": [
    "#B.\n",
    "import matplotlib.pyplot as plt\n",
    "\n",
    "plt.plot(sizes, time_insert, label=\"Insertion Sort\")\n",
    "plt.plot(sizes, time_merge, label=\"Merge Sort\")\n",
    "\n",
    "plt.xlabel(\"Input Size\")\n",
    "plt.ylabel(\"Execution Time\")\n",
    "\n",
    "plt.legend()\n",
    "\n",
    "plt.show()"
   ]
  }
 ],
 "metadata": {
  "kernelspec": {
   "display_name": "Python 3 (ipykernel)",
   "language": "python",
   "name": "python3"
  },
  "language_info": {
   "codemirror_mode": {
    "name": "ipython",
    "version": 3
   },
   "file_extension": ".py",
   "mimetype": "text/x-python",
   "name": "python",
   "nbconvert_exporter": "python",
   "pygments_lexer": "ipython3",
   "version": "3.12.4"
  }
 },
 "nbformat": 4,
 "nbformat_minor": 5
}
